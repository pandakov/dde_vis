{
 "cells": [
  {
   "cell_type": "code",
   "execution_count": 1,
   "id": "7fe9e9c6",
   "metadata": {},
   "outputs": [],
   "source": [
    "import pandas as pd\n",
    "import numpy as np\n",
    "import plotly.express as px"
   ]
  },
  {
   "cell_type": "code",
   "execution_count": 2,
   "id": "ed544c29",
   "metadata": {},
   "outputs": [
    {
     "data": {
      "text/html": [
       "<div>\n",
       "<style scoped>\n",
       "    .dataframe tbody tr th:only-of-type {\n",
       "        vertical-align: middle;\n",
       "    }\n",
       "\n",
       "    .dataframe tbody tr th {\n",
       "        vertical-align: top;\n",
       "    }\n",
       "\n",
       "    .dataframe thead th {\n",
       "        text-align: right;\n",
       "    }\n",
       "</style>\n",
       "<table border=\"1\" class=\"dataframe\">\n",
       "  <thead>\n",
       "    <tr style=\"text-align: right;\">\n",
       "      <th></th>\n",
       "      <th>PassengerId</th>\n",
       "      <th>Survived</th>\n",
       "      <th>Pclass</th>\n",
       "      <th>Name</th>\n",
       "      <th>Sex</th>\n",
       "      <th>Age</th>\n",
       "      <th>SibSp</th>\n",
       "      <th>Parch</th>\n",
       "      <th>Ticket</th>\n",
       "      <th>Fare</th>\n",
       "      <th>Cabin</th>\n",
       "      <th>Embarked</th>\n",
       "      <th>is_male</th>\n",
       "    </tr>\n",
       "  </thead>\n",
       "  <tbody>\n",
       "    <tr>\n",
       "      <th>0</th>\n",
       "      <td>1</td>\n",
       "      <td>False</td>\n",
       "      <td>3</td>\n",
       "      <td>Braund, Mr. Owen Harris</td>\n",
       "      <td>male</td>\n",
       "      <td>22.0</td>\n",
       "      <td>1</td>\n",
       "      <td>0</td>\n",
       "      <td>A/5 21171</td>\n",
       "      <td>7.2500</td>\n",
       "      <td>None</td>\n",
       "      <td>S</td>\n",
       "      <td>True</td>\n",
       "    </tr>\n",
       "    <tr>\n",
       "      <th>1</th>\n",
       "      <td>2</td>\n",
       "      <td>True</td>\n",
       "      <td>1</td>\n",
       "      <td>Cumings, Mrs. John Bradley (Florence Briggs Th...</td>\n",
       "      <td>female</td>\n",
       "      <td>38.0</td>\n",
       "      <td>1</td>\n",
       "      <td>0</td>\n",
       "      <td>PC 17599</td>\n",
       "      <td>71.2833</td>\n",
       "      <td>C85</td>\n",
       "      <td>C</td>\n",
       "      <td>False</td>\n",
       "    </tr>\n",
       "    <tr>\n",
       "      <th>2</th>\n",
       "      <td>3</td>\n",
       "      <td>True</td>\n",
       "      <td>3</td>\n",
       "      <td>Heikkinen, Miss. Laina</td>\n",
       "      <td>female</td>\n",
       "      <td>26.0</td>\n",
       "      <td>0</td>\n",
       "      <td>0</td>\n",
       "      <td>STON/O2. 3101282</td>\n",
       "      <td>7.9250</td>\n",
       "      <td>None</td>\n",
       "      <td>S</td>\n",
       "      <td>False</td>\n",
       "    </tr>\n",
       "    <tr>\n",
       "      <th>3</th>\n",
       "      <td>4</td>\n",
       "      <td>True</td>\n",
       "      <td>1</td>\n",
       "      <td>Futrelle, Mrs. Jacques Heath (Lily May Peel)</td>\n",
       "      <td>female</td>\n",
       "      <td>35.0</td>\n",
       "      <td>1</td>\n",
       "      <td>0</td>\n",
       "      <td>113803</td>\n",
       "      <td>53.1000</td>\n",
       "      <td>C123</td>\n",
       "      <td>S</td>\n",
       "      <td>False</td>\n",
       "    </tr>\n",
       "    <tr>\n",
       "      <th>4</th>\n",
       "      <td>5</td>\n",
       "      <td>False</td>\n",
       "      <td>3</td>\n",
       "      <td>Allen, Mr. William Henry</td>\n",
       "      <td>male</td>\n",
       "      <td>35.0</td>\n",
       "      <td>0</td>\n",
       "      <td>0</td>\n",
       "      <td>373450</td>\n",
       "      <td>8.0500</td>\n",
       "      <td>None</td>\n",
       "      <td>S</td>\n",
       "      <td>True</td>\n",
       "    </tr>\n",
       "    <tr>\n",
       "      <th>...</th>\n",
       "      <td>...</td>\n",
       "      <td>...</td>\n",
       "      <td>...</td>\n",
       "      <td>...</td>\n",
       "      <td>...</td>\n",
       "      <td>...</td>\n",
       "      <td>...</td>\n",
       "      <td>...</td>\n",
       "      <td>...</td>\n",
       "      <td>...</td>\n",
       "      <td>...</td>\n",
       "      <td>...</td>\n",
       "      <td>...</td>\n",
       "    </tr>\n",
       "    <tr>\n",
       "      <th>886</th>\n",
       "      <td>887</td>\n",
       "      <td>False</td>\n",
       "      <td>2</td>\n",
       "      <td>Montvila, Rev. Juozas</td>\n",
       "      <td>male</td>\n",
       "      <td>27.0</td>\n",
       "      <td>0</td>\n",
       "      <td>0</td>\n",
       "      <td>211536</td>\n",
       "      <td>13.0000</td>\n",
       "      <td>None</td>\n",
       "      <td>S</td>\n",
       "      <td>True</td>\n",
       "    </tr>\n",
       "    <tr>\n",
       "      <th>887</th>\n",
       "      <td>888</td>\n",
       "      <td>True</td>\n",
       "      <td>1</td>\n",
       "      <td>Graham, Miss. Margaret Edith</td>\n",
       "      <td>female</td>\n",
       "      <td>19.0</td>\n",
       "      <td>0</td>\n",
       "      <td>0</td>\n",
       "      <td>112053</td>\n",
       "      <td>30.0000</td>\n",
       "      <td>B42</td>\n",
       "      <td>S</td>\n",
       "      <td>False</td>\n",
       "    </tr>\n",
       "    <tr>\n",
       "      <th>888</th>\n",
       "      <td>889</td>\n",
       "      <td>False</td>\n",
       "      <td>3</td>\n",
       "      <td>Johnston, Miss. Catherine Helen \"Carrie\"</td>\n",
       "      <td>female</td>\n",
       "      <td>NaN</td>\n",
       "      <td>1</td>\n",
       "      <td>2</td>\n",
       "      <td>W./C. 6607</td>\n",
       "      <td>23.4500</td>\n",
       "      <td>None</td>\n",
       "      <td>S</td>\n",
       "      <td>False</td>\n",
       "    </tr>\n",
       "    <tr>\n",
       "      <th>889</th>\n",
       "      <td>890</td>\n",
       "      <td>True</td>\n",
       "      <td>1</td>\n",
       "      <td>Behr, Mr. Karl Howell</td>\n",
       "      <td>male</td>\n",
       "      <td>26.0</td>\n",
       "      <td>0</td>\n",
       "      <td>0</td>\n",
       "      <td>111369</td>\n",
       "      <td>30.0000</td>\n",
       "      <td>C148</td>\n",
       "      <td>C</td>\n",
       "      <td>True</td>\n",
       "    </tr>\n",
       "    <tr>\n",
       "      <th>890</th>\n",
       "      <td>891</td>\n",
       "      <td>False</td>\n",
       "      <td>3</td>\n",
       "      <td>Dooley, Mr. Patrick</td>\n",
       "      <td>male</td>\n",
       "      <td>32.0</td>\n",
       "      <td>0</td>\n",
       "      <td>0</td>\n",
       "      <td>370376</td>\n",
       "      <td>7.7500</td>\n",
       "      <td>None</td>\n",
       "      <td>Q</td>\n",
       "      <td>True</td>\n",
       "    </tr>\n",
       "  </tbody>\n",
       "</table>\n",
       "<p>891 rows × 13 columns</p>\n",
       "</div>"
      ],
      "text/plain": [
       "     PassengerId  Survived  Pclass  \\\n",
       "0              1     False       3   \n",
       "1              2      True       1   \n",
       "2              3      True       3   \n",
       "3              4      True       1   \n",
       "4              5     False       3   \n",
       "..           ...       ...     ...   \n",
       "886          887     False       2   \n",
       "887          888      True       1   \n",
       "888          889     False       3   \n",
       "889          890      True       1   \n",
       "890          891     False       3   \n",
       "\n",
       "                                                  Name     Sex   Age  SibSp  \\\n",
       "0                              Braund, Mr. Owen Harris    male  22.0      1   \n",
       "1    Cumings, Mrs. John Bradley (Florence Briggs Th...  female  38.0      1   \n",
       "2                               Heikkinen, Miss. Laina  female  26.0      0   \n",
       "3         Futrelle, Mrs. Jacques Heath (Lily May Peel)  female  35.0      1   \n",
       "4                             Allen, Mr. William Henry    male  35.0      0   \n",
       "..                                                 ...     ...   ...    ...   \n",
       "886                              Montvila, Rev. Juozas    male  27.0      0   \n",
       "887                       Graham, Miss. Margaret Edith  female  19.0      0   \n",
       "888           Johnston, Miss. Catherine Helen \"Carrie\"  female   NaN      1   \n",
       "889                              Behr, Mr. Karl Howell    male  26.0      0   \n",
       "890                                Dooley, Mr. Patrick    male  32.0      0   \n",
       "\n",
       "     Parch            Ticket     Fare Cabin Embarked  is_male  \n",
       "0        0         A/5 21171   7.2500  None        S     True  \n",
       "1        0          PC 17599  71.2833   C85        C    False  \n",
       "2        0  STON/O2. 3101282   7.9250  None        S    False  \n",
       "3        0            113803  53.1000  C123        S    False  \n",
       "4        0            373450   8.0500  None        S     True  \n",
       "..     ...               ...      ...   ...      ...      ...  \n",
       "886      0            211536  13.0000  None        S     True  \n",
       "887      0            112053  30.0000   B42        S    False  \n",
       "888      2        W./C. 6607  23.4500  None        S    False  \n",
       "889      0            111369  30.0000  C148        C     True  \n",
       "890      0            370376   7.7500  None        Q     True  \n",
       "\n",
       "[891 rows x 13 columns]"
      ]
     },
     "execution_count": 2,
     "metadata": {},
     "output_type": "execute_result"
    }
   ],
   "source": [
    "data = pd.read_parquet('./data/titanic.parquet')\n",
    "data"
   ]
  },
  {
   "cell_type": "code",
   "execution_count": 3,
   "id": "f0ec3a14",
   "metadata": {},
   "outputs": [
    {
     "name": "stdout",
     "output_type": "stream",
     "text": [
      "<class 'pandas.core.frame.DataFrame'>\n",
      "RangeIndex: 891 entries, 0 to 890\n",
      "Data columns (total 13 columns):\n",
      " #   Column       Non-Null Count  Dtype   \n",
      "---  ------       --------------  -----   \n",
      " 0   PassengerId  891 non-null    int64   \n",
      " 1   Survived     891 non-null    bool    \n",
      " 2   Pclass       891 non-null    int64   \n",
      " 3   Name         891 non-null    object  \n",
      " 4   Sex          891 non-null    object  \n",
      " 5   Age          714 non-null    float64 \n",
      " 6   SibSp        891 non-null    int64   \n",
      " 7   Parch        891 non-null    int64   \n",
      " 8   Ticket       891 non-null    object  \n",
      " 9   Fare         891 non-null    float64 \n",
      " 10  Cabin        204 non-null    object  \n",
      " 11  Embarked     889 non-null    category\n",
      " 12  is_male      891 non-null    bool    \n",
      "dtypes: bool(2), category(1), float64(2), int64(4), object(4)\n",
      "memory usage: 72.5+ KB\n"
     ]
    }
   ],
   "source": [
    "data.info()"
   ]
  },
  {
   "cell_type": "code",
   "execution_count": 4,
   "id": "5074f8e8",
   "metadata": {},
   "outputs": [
    {
     "data": {
      "text/html": [
       "<div>\n",
       "<style scoped>\n",
       "    .dataframe tbody tr th:only-of-type {\n",
       "        vertical-align: middle;\n",
       "    }\n",
       "\n",
       "    .dataframe tbody tr th {\n",
       "        vertical-align: top;\n",
       "    }\n",
       "\n",
       "    .dataframe thead th {\n",
       "        text-align: right;\n",
       "    }\n",
       "</style>\n",
       "<table border=\"1\" class=\"dataframe\">\n",
       "  <thead>\n",
       "    <tr style=\"text-align: right;\">\n",
       "      <th></th>\n",
       "      <th>PassengerId</th>\n",
       "      <th>Survived</th>\n",
       "      <th>Pclass</th>\n",
       "      <th>Age</th>\n",
       "      <th>SibSp</th>\n",
       "      <th>Parch</th>\n",
       "      <th>Fare</th>\n",
       "      <th>is_male</th>\n",
       "    </tr>\n",
       "  </thead>\n",
       "  <tbody>\n",
       "    <tr>\n",
       "      <th>PassengerId</th>\n",
       "      <td>NaN</td>\n",
       "      <td>-0.005007</td>\n",
       "      <td>-0.035144</td>\n",
       "      <td>0.036847</td>\n",
       "      <td>-0.057527</td>\n",
       "      <td>-0.001652</td>\n",
       "      <td>0.012658</td>\n",
       "      <td>0.042939</td>\n",
       "    </tr>\n",
       "    <tr>\n",
       "      <th>Survived</th>\n",
       "      <td>-0.005007</td>\n",
       "      <td>NaN</td>\n",
       "      <td>-0.338481</td>\n",
       "      <td>-0.077221</td>\n",
       "      <td>-0.035322</td>\n",
       "      <td>0.081629</td>\n",
       "      <td>0.257307</td>\n",
       "      <td>-0.543351</td>\n",
       "    </tr>\n",
       "    <tr>\n",
       "      <th>Pclass</th>\n",
       "      <td>-0.035144</td>\n",
       "      <td>-0.338481</td>\n",
       "      <td>NaN</td>\n",
       "      <td>-0.369226</td>\n",
       "      <td>0.083081</td>\n",
       "      <td>0.018443</td>\n",
       "      <td>-0.549500</td>\n",
       "      <td>0.131900</td>\n",
       "    </tr>\n",
       "    <tr>\n",
       "      <th>Age</th>\n",
       "      <td>0.036847</td>\n",
       "      <td>-0.077221</td>\n",
       "      <td>-0.369226</td>\n",
       "      <td>NaN</td>\n",
       "      <td>-0.308247</td>\n",
       "      <td>-0.189119</td>\n",
       "      <td>0.096067</td>\n",
       "      <td>0.093254</td>\n",
       "    </tr>\n",
       "    <tr>\n",
       "      <th>SibSp</th>\n",
       "      <td>-0.057527</td>\n",
       "      <td>-0.035322</td>\n",
       "      <td>0.083081</td>\n",
       "      <td>-0.308247</td>\n",
       "      <td>NaN</td>\n",
       "      <td>0.414838</td>\n",
       "      <td>0.159651</td>\n",
       "      <td>-0.114631</td>\n",
       "    </tr>\n",
       "    <tr>\n",
       "      <th>Parch</th>\n",
       "      <td>-0.001652</td>\n",
       "      <td>0.081629</td>\n",
       "      <td>0.018443</td>\n",
       "      <td>-0.189119</td>\n",
       "      <td>0.414838</td>\n",
       "      <td>NaN</td>\n",
       "      <td>0.216225</td>\n",
       "      <td>-0.245489</td>\n",
       "    </tr>\n",
       "    <tr>\n",
       "      <th>Fare</th>\n",
       "      <td>0.012658</td>\n",
       "      <td>0.257307</td>\n",
       "      <td>-0.549500</td>\n",
       "      <td>0.096067</td>\n",
       "      <td>0.159651</td>\n",
       "      <td>0.216225</td>\n",
       "      <td>NaN</td>\n",
       "      <td>-0.182333</td>\n",
       "    </tr>\n",
       "    <tr>\n",
       "      <th>is_male</th>\n",
       "      <td>0.042939</td>\n",
       "      <td>-0.543351</td>\n",
       "      <td>0.131900</td>\n",
       "      <td>0.093254</td>\n",
       "      <td>-0.114631</td>\n",
       "      <td>-0.245489</td>\n",
       "      <td>-0.182333</td>\n",
       "      <td>NaN</td>\n",
       "    </tr>\n",
       "  </tbody>\n",
       "</table>\n",
       "</div>"
      ],
      "text/plain": [
       "             PassengerId  Survived    Pclass       Age     SibSp     Parch  \\\n",
       "PassengerId          NaN -0.005007 -0.035144  0.036847 -0.057527 -0.001652   \n",
       "Survived       -0.005007       NaN -0.338481 -0.077221 -0.035322  0.081629   \n",
       "Pclass         -0.035144 -0.338481       NaN -0.369226  0.083081  0.018443   \n",
       "Age             0.036847 -0.077221 -0.369226       NaN -0.308247 -0.189119   \n",
       "SibSp          -0.057527 -0.035322  0.083081 -0.308247       NaN  0.414838   \n",
       "Parch          -0.001652  0.081629  0.018443 -0.189119  0.414838       NaN   \n",
       "Fare            0.012658  0.257307 -0.549500  0.096067  0.159651  0.216225   \n",
       "is_male         0.042939 -0.543351  0.131900  0.093254 -0.114631 -0.245489   \n",
       "\n",
       "                 Fare   is_male  \n",
       "PassengerId  0.012658  0.042939  \n",
       "Survived     0.257307 -0.543351  \n",
       "Pclass      -0.549500  0.131900  \n",
       "Age          0.096067  0.093254  \n",
       "SibSp        0.159651 -0.114631  \n",
       "Parch        0.216225 -0.245489  \n",
       "Fare              NaN -0.182333  \n",
       "is_male     -0.182333       NaN  "
      ]
     },
     "execution_count": 4,
     "metadata": {},
     "output_type": "execute_result"
    }
   ],
   "source": [
    "corr = data.corr(numeric_only=True)\n",
    "\n",
    "corr.values[np.eye(len(corr), dtype=bool)] = np.nan\n",
    "\n",
    "corr"
   ]
  },
  {
   "cell_type": "code",
   "execution_count": 5,
   "id": "0f309c3b",
   "metadata": {},
   "outputs": [
    {
     "data": {
      "application/vnd.plotly.v1+json": {
       "config": {
        "plotlyServerURL": "https://plot.ly"
       },
       "data": [
        {
         "coloraxis": "coloraxis",
         "hovertemplate": "x: %{x}<br>y: %{y}<br>color: %{z}<extra></extra>",
         "name": "0",
         "texttemplate": "%{z}",
         "type": "heatmap",
         "x": [
          "PassengerId",
          "Survived",
          "Pclass",
          "Age",
          "SibSp",
          "Parch",
          "Fare",
          "is_male"
         ],
         "xaxis": "x",
         "y": [
          "PassengerId",
          "Survived",
          "Pclass",
          "Age",
          "SibSp",
          "Parch",
          "Fare",
          "is_male"
         ],
         "yaxis": "y",
         "z": {
          "bdata": "AAAAAAAA+H9+gxtE3YF0v+bJBcJk/qG/UfyGy6Ldoj/pQn47KHStv8k/gc8KEVu/eEfsbo3siT+cnVS7FfylP36DG0TdgXS/AAAAAAAA+H9cM/FcrKnVvwuzv/vCxLO/M/ENY8oVor8jwNAxquW0P883rMa1d9A/DStFbyJj4b/myQXCZP6hv1wz8VysqdW/AAAAAAAA+H/mMycnZqHXv0ZPVPjRRLU/4ayFuKLikj82Who6gJXhv4iivIId4sA/UfyGy6Ldoj8Ls7/7wsSzv+YzJydmode/AAAAAAAA+H/gNCudULrTv0YsBlwPNci/EAhio9OXuD8rhdRmd9+3P+lCfjsodK2/M/ENY8oVor9GT1T40US1P+A0K51QutO/AAAAAAAA+H+pLC5rs4zaP5qpvwRyb8Q/TY683XFYvb/JP4HPChFbvyPA0DGq5bQ/4ayFuKLikj9GLAZcDzXIv6ksLmuzjNo/AAAAAAAA+H/pVi9NQq3LP1Iuj6cubM+/eEfsbo3siT/PN6zGtXfQPzZaGjqAleG/EAhio9OXuD+aqb8Ecm/EP+lWL01Crcs/AAAAAAAA+H9izRWrrlbHv5ydVLsV/KU/DStFbyJj4b+IoryCHeLAPyuF1GZ337c/TY683XFYvb9SLo+nLmzPv2LNFauuVse/AAAAAAAA+H8=",
          "dtype": "f8",
          "shape": "8, 8"
         }
        }
       ],
       "layout": {
        "coloraxis": {
         "cmid": 0,
         "colorscale": [
          [
           0,
           "rgb(5,48,97)"
          ],
          [
           0.1,
           "rgb(33,102,172)"
          ],
          [
           0.2,
           "rgb(67,147,195)"
          ],
          [
           0.3,
           "rgb(146,197,222)"
          ],
          [
           0.4,
           "rgb(209,229,240)"
          ],
          [
           0.5,
           "rgb(247,247,247)"
          ],
          [
           0.6,
           "rgb(253,219,199)"
          ],
          [
           0.7,
           "rgb(244,165,130)"
          ],
          [
           0.8,
           "rgb(214,96,77)"
          ],
          [
           0.9,
           "rgb(178,24,43)"
          ],
          [
           1,
           "rgb(103,0,31)"
          ]
         ]
        },
        "margin": {
         "t": 60
        },
        "template": {
         "data": {
          "bar": [
           {
            "error_x": {
             "color": "#f2f5fa"
            },
            "error_y": {
             "color": "#f2f5fa"
            },
            "marker": {
             "line": {
              "color": "rgb(17,17,17)",
              "width": 0.5
             },
             "pattern": {
              "fillmode": "overlay",
              "size": 10,
              "solidity": 0.2
             }
            },
            "type": "bar"
           }
          ],
          "barpolar": [
           {
            "marker": {
             "line": {
              "color": "rgb(17,17,17)",
              "width": 0.5
             },
             "pattern": {
              "fillmode": "overlay",
              "size": 10,
              "solidity": 0.2
             }
            },
            "type": "barpolar"
           }
          ],
          "carpet": [
           {
            "aaxis": {
             "endlinecolor": "#A2B1C6",
             "gridcolor": "#506784",
             "linecolor": "#506784",
             "minorgridcolor": "#506784",
             "startlinecolor": "#A2B1C6"
            },
            "baxis": {
             "endlinecolor": "#A2B1C6",
             "gridcolor": "#506784",
             "linecolor": "#506784",
             "minorgridcolor": "#506784",
             "startlinecolor": "#A2B1C6"
            },
            "type": "carpet"
           }
          ],
          "choropleth": [
           {
            "colorbar": {
             "outlinewidth": 0,
             "ticks": ""
            },
            "type": "choropleth"
           }
          ],
          "contour": [
           {
            "colorbar": {
             "outlinewidth": 0,
             "ticks": ""
            },
            "colorscale": [
             [
              0,
              "#0d0887"
             ],
             [
              0.1111111111111111,
              "#46039f"
             ],
             [
              0.2222222222222222,
              "#7201a8"
             ],
             [
              0.3333333333333333,
              "#9c179e"
             ],
             [
              0.4444444444444444,
              "#bd3786"
             ],
             [
              0.5555555555555556,
              "#d8576b"
             ],
             [
              0.6666666666666666,
              "#ed7953"
             ],
             [
              0.7777777777777778,
              "#fb9f3a"
             ],
             [
              0.8888888888888888,
              "#fdca26"
             ],
             [
              1,
              "#f0f921"
             ]
            ],
            "type": "contour"
           }
          ],
          "contourcarpet": [
           {
            "colorbar": {
             "outlinewidth": 0,
             "ticks": ""
            },
            "type": "contourcarpet"
           }
          ],
          "heatmap": [
           {
            "colorbar": {
             "outlinewidth": 0,
             "ticks": ""
            },
            "colorscale": [
             [
              0,
              "#0d0887"
             ],
             [
              0.1111111111111111,
              "#46039f"
             ],
             [
              0.2222222222222222,
              "#7201a8"
             ],
             [
              0.3333333333333333,
              "#9c179e"
             ],
             [
              0.4444444444444444,
              "#bd3786"
             ],
             [
              0.5555555555555556,
              "#d8576b"
             ],
             [
              0.6666666666666666,
              "#ed7953"
             ],
             [
              0.7777777777777778,
              "#fb9f3a"
             ],
             [
              0.8888888888888888,
              "#fdca26"
             ],
             [
              1,
              "#f0f921"
             ]
            ],
            "type": "heatmap"
           }
          ],
          "histogram": [
           {
            "marker": {
             "pattern": {
              "fillmode": "overlay",
              "size": 10,
              "solidity": 0.2
             }
            },
            "type": "histogram"
           }
          ],
          "histogram2d": [
           {
            "colorbar": {
             "outlinewidth": 0,
             "ticks": ""
            },
            "colorscale": [
             [
              0,
              "#0d0887"
             ],
             [
              0.1111111111111111,
              "#46039f"
             ],
             [
              0.2222222222222222,
              "#7201a8"
             ],
             [
              0.3333333333333333,
              "#9c179e"
             ],
             [
              0.4444444444444444,
              "#bd3786"
             ],
             [
              0.5555555555555556,
              "#d8576b"
             ],
             [
              0.6666666666666666,
              "#ed7953"
             ],
             [
              0.7777777777777778,
              "#fb9f3a"
             ],
             [
              0.8888888888888888,
              "#fdca26"
             ],
             [
              1,
              "#f0f921"
             ]
            ],
            "type": "histogram2d"
           }
          ],
          "histogram2dcontour": [
           {
            "colorbar": {
             "outlinewidth": 0,
             "ticks": ""
            },
            "colorscale": [
             [
              0,
              "#0d0887"
             ],
             [
              0.1111111111111111,
              "#46039f"
             ],
             [
              0.2222222222222222,
              "#7201a8"
             ],
             [
              0.3333333333333333,
              "#9c179e"
             ],
             [
              0.4444444444444444,
              "#bd3786"
             ],
             [
              0.5555555555555556,
              "#d8576b"
             ],
             [
              0.6666666666666666,
              "#ed7953"
             ],
             [
              0.7777777777777778,
              "#fb9f3a"
             ],
             [
              0.8888888888888888,
              "#fdca26"
             ],
             [
              1,
              "#f0f921"
             ]
            ],
            "type": "histogram2dcontour"
           }
          ],
          "mesh3d": [
           {
            "colorbar": {
             "outlinewidth": 0,
             "ticks": ""
            },
            "type": "mesh3d"
           }
          ],
          "parcoords": [
           {
            "line": {
             "colorbar": {
              "outlinewidth": 0,
              "ticks": ""
             }
            },
            "type": "parcoords"
           }
          ],
          "pie": [
           {
            "automargin": true,
            "type": "pie"
           }
          ],
          "scatter": [
           {
            "marker": {
             "line": {
              "color": "#283442"
             }
            },
            "type": "scatter"
           }
          ],
          "scatter3d": [
           {
            "line": {
             "colorbar": {
              "outlinewidth": 0,
              "ticks": ""
             }
            },
            "marker": {
             "colorbar": {
              "outlinewidth": 0,
              "ticks": ""
             }
            },
            "type": "scatter3d"
           }
          ],
          "scattercarpet": [
           {
            "marker": {
             "colorbar": {
              "outlinewidth": 0,
              "ticks": ""
             }
            },
            "type": "scattercarpet"
           }
          ],
          "scattergeo": [
           {
            "marker": {
             "colorbar": {
              "outlinewidth": 0,
              "ticks": ""
             }
            },
            "type": "scattergeo"
           }
          ],
          "scattergl": [
           {
            "marker": {
             "line": {
              "color": "#283442"
             }
            },
            "type": "scattergl"
           }
          ],
          "scattermap": [
           {
            "marker": {
             "colorbar": {
              "outlinewidth": 0,
              "ticks": ""
             }
            },
            "type": "scattermap"
           }
          ],
          "scattermapbox": [
           {
            "marker": {
             "colorbar": {
              "outlinewidth": 0,
              "ticks": ""
             }
            },
            "type": "scattermapbox"
           }
          ],
          "scatterpolar": [
           {
            "marker": {
             "colorbar": {
              "outlinewidth": 0,
              "ticks": ""
             }
            },
            "type": "scatterpolar"
           }
          ],
          "scatterpolargl": [
           {
            "marker": {
             "colorbar": {
              "outlinewidth": 0,
              "ticks": ""
             }
            },
            "type": "scatterpolargl"
           }
          ],
          "scatterternary": [
           {
            "marker": {
             "colorbar": {
              "outlinewidth": 0,
              "ticks": ""
             }
            },
            "type": "scatterternary"
           }
          ],
          "surface": [
           {
            "colorbar": {
             "outlinewidth": 0,
             "ticks": ""
            },
            "colorscale": [
             [
              0,
              "#0d0887"
             ],
             [
              0.1111111111111111,
              "#46039f"
             ],
             [
              0.2222222222222222,
              "#7201a8"
             ],
             [
              0.3333333333333333,
              "#9c179e"
             ],
             [
              0.4444444444444444,
              "#bd3786"
             ],
             [
              0.5555555555555556,
              "#d8576b"
             ],
             [
              0.6666666666666666,
              "#ed7953"
             ],
             [
              0.7777777777777778,
              "#fb9f3a"
             ],
             [
              0.8888888888888888,
              "#fdca26"
             ],
             [
              1,
              "#f0f921"
             ]
            ],
            "type": "surface"
           }
          ],
          "table": [
           {
            "cells": {
             "fill": {
              "color": "#506784"
             },
             "line": {
              "color": "rgb(17,17,17)"
             }
            },
            "header": {
             "fill": {
              "color": "#2a3f5f"
             },
             "line": {
              "color": "rgb(17,17,17)"
             }
            },
            "type": "table"
           }
          ]
         },
         "layout": {
          "annotationdefaults": {
           "arrowcolor": "#f2f5fa",
           "arrowhead": 0,
           "arrowwidth": 1
          },
          "autotypenumbers": "strict",
          "coloraxis": {
           "colorbar": {
            "outlinewidth": 0,
            "ticks": ""
           }
          },
          "colorscale": {
           "diverging": [
            [
             0,
             "#8e0152"
            ],
            [
             0.1,
             "#c51b7d"
            ],
            [
             0.2,
             "#de77ae"
            ],
            [
             0.3,
             "#f1b6da"
            ],
            [
             0.4,
             "#fde0ef"
            ],
            [
             0.5,
             "#f7f7f7"
            ],
            [
             0.6,
             "#e6f5d0"
            ],
            [
             0.7,
             "#b8e186"
            ],
            [
             0.8,
             "#7fbc41"
            ],
            [
             0.9,
             "#4d9221"
            ],
            [
             1,
             "#276419"
            ]
           ],
           "sequential": [
            [
             0,
             "#0d0887"
            ],
            [
             0.1111111111111111,
             "#46039f"
            ],
            [
             0.2222222222222222,
             "#7201a8"
            ],
            [
             0.3333333333333333,
             "#9c179e"
            ],
            [
             0.4444444444444444,
             "#bd3786"
            ],
            [
             0.5555555555555556,
             "#d8576b"
            ],
            [
             0.6666666666666666,
             "#ed7953"
            ],
            [
             0.7777777777777778,
             "#fb9f3a"
            ],
            [
             0.8888888888888888,
             "#fdca26"
            ],
            [
             1,
             "#f0f921"
            ]
           ],
           "sequentialminus": [
            [
             0,
             "#0d0887"
            ],
            [
             0.1111111111111111,
             "#46039f"
            ],
            [
             0.2222222222222222,
             "#7201a8"
            ],
            [
             0.3333333333333333,
             "#9c179e"
            ],
            [
             0.4444444444444444,
             "#bd3786"
            ],
            [
             0.5555555555555556,
             "#d8576b"
            ],
            [
             0.6666666666666666,
             "#ed7953"
            ],
            [
             0.7777777777777778,
             "#fb9f3a"
            ],
            [
             0.8888888888888888,
             "#fdca26"
            ],
            [
             1,
             "#f0f921"
            ]
           ]
          },
          "colorway": [
           "#636efa",
           "#EF553B",
           "#00cc96",
           "#ab63fa",
           "#FFA15A",
           "#19d3f3",
           "#FF6692",
           "#B6E880",
           "#FF97FF",
           "#FECB52"
          ],
          "font": {
           "color": "#f2f5fa"
          },
          "geo": {
           "bgcolor": "rgb(17,17,17)",
           "lakecolor": "rgb(17,17,17)",
           "landcolor": "rgb(17,17,17)",
           "showlakes": true,
           "showland": true,
           "subunitcolor": "#506784"
          },
          "hoverlabel": {
           "align": "left"
          },
          "hovermode": "closest",
          "mapbox": {
           "style": "dark"
          },
          "paper_bgcolor": "rgb(17,17,17)",
          "plot_bgcolor": "rgb(17,17,17)",
          "polar": {
           "angularaxis": {
            "gridcolor": "#506784",
            "linecolor": "#506784",
            "ticks": ""
           },
           "bgcolor": "rgb(17,17,17)",
           "radialaxis": {
            "gridcolor": "#506784",
            "linecolor": "#506784",
            "ticks": ""
           }
          },
          "scene": {
           "xaxis": {
            "backgroundcolor": "rgb(17,17,17)",
            "gridcolor": "#506784",
            "gridwidth": 2,
            "linecolor": "#506784",
            "showbackground": true,
            "ticks": "",
            "zerolinecolor": "#C8D4E3"
           },
           "yaxis": {
            "backgroundcolor": "rgb(17,17,17)",
            "gridcolor": "#506784",
            "gridwidth": 2,
            "linecolor": "#506784",
            "showbackground": true,
            "ticks": "",
            "zerolinecolor": "#C8D4E3"
           },
           "zaxis": {
            "backgroundcolor": "rgb(17,17,17)",
            "gridcolor": "#506784",
            "gridwidth": 2,
            "linecolor": "#506784",
            "showbackground": true,
            "ticks": "",
            "zerolinecolor": "#C8D4E3"
           }
          },
          "shapedefaults": {
           "line": {
            "color": "#f2f5fa"
           }
          },
          "sliderdefaults": {
           "bgcolor": "#C8D4E3",
           "bordercolor": "rgb(17,17,17)",
           "borderwidth": 1,
           "tickwidth": 0
          },
          "ternary": {
           "aaxis": {
            "gridcolor": "#506784",
            "linecolor": "#506784",
            "ticks": ""
           },
           "baxis": {
            "gridcolor": "#506784",
            "linecolor": "#506784",
            "ticks": ""
           },
           "bgcolor": "rgb(17,17,17)",
           "caxis": {
            "gridcolor": "#506784",
            "linecolor": "#506784",
            "ticks": ""
           }
          },
          "title": {
           "x": 0.05
          },
          "updatemenudefaults": {
           "bgcolor": "#506784",
           "borderwidth": 0
          },
          "xaxis": {
           "automargin": true,
           "gridcolor": "#283442",
           "linecolor": "#506784",
           "ticks": "",
           "title": {
            "standoff": 15
           },
           "zerolinecolor": "#283442",
           "zerolinewidth": 2
          },
          "yaxis": {
           "automargin": true,
           "gridcolor": "#283442",
           "linecolor": "#506784",
           "ticks": "",
           "title": {
            "standoff": 15
           },
           "zerolinecolor": "#283442",
           "zerolinewidth": 2
          }
         }
        },
        "xaxis": {
         "anchor": "y",
         "domain": [
          0,
          1
         ]
        },
        "yaxis": {
         "anchor": "x",
         "autorange": "reversed",
         "domain": [
          0,
          1
         ]
        }
       }
      }
     },
     "metadata": {},
     "output_type": "display_data"
    }
   ],
   "source": [
    "fig = px.imshow(\n",
    "    corr,\n",
    "    text_auto=True,\n",
    "    aspect='auto',\n",
    "    # color_continuous_scale=px.colors.sequential.RdBu_r,\n",
    "    color_continuous_scale=px.colors.diverging.RdBu_r,\n",
    "    template='plotly_dark',\n",
    "    )\n",
    "\n",
    "fig.update_coloraxes(cmid=0.0)"
   ]
  },
  {
   "cell_type": "code",
   "execution_count": 17,
   "id": "0a5a43f2",
   "metadata": {},
   "outputs": [
    {
     "data": {
      "image/png": "[encoded data removed]",
      "text/plain": [
       "<Figure size 200x400 with 1 Axes>"
      ]
     },
     "metadata": {},
     "output_type": "display_data"
    }
   ],
   "source": [
    "\n",
    "\n",
    "import matplotlib.pyplot as plt\n",
    "\n",
    "fig, ax = plt.subplots(figsize=(2, 4))\n",
    "\n",
    "ax.hist(\n",
    "    data[\"Age\"].dropna(),\n",
    "    bins=20,\n",
    "    color=\"skyblue\",\n",
    "    edgecolor=\"black\",\n",
    ")\n",
    "\n",
    "ax.set_title(\"Распределение возраста пассажиров\")\n",
    "ax.set_xlabel(\"Возраст\")\n",
    "ax.set_ylabel(\"Количество пассажиров\")\n",
    "\n",
    "plt.tight_layout()\n",
    "plt.show()\n",
    "\n",
    "\n"
   ]
  },
  {
   "cell_type": "code",
   "execution_count": 7,
   "id": "42ffbae6",
   "metadata": {},
   "outputs": [
    {
     "data": {
      "image/png": "[encoded data removed]",
      "text/plain": [
       "<Figure size 600x400 with 1 Axes>"
      ]
     },
     "metadata": {},
     "output_type": "display_data"
    }
   ],
   "source": [
    "import matplotlib.pyplot as plt\n",
    "\n",
    "ax = data[\"Age\"].plot(\n",
    "    kind=\"hist\",\n",
    "    bins=20,\n",
    "    color=\"skyblue\",\n",
    "    edgecolor=\"black\",\n",
    "    title=\"Распределение возраста пассажиров\",\n",
    "    figsize=(6, 4)\n",
    ")\n",
    "\n",
    "ax.set_xlabel(\"Возраст\")\n",
    "ax.set_ylabel(\"Количество пассажиров\")\n",
    "\n",
    "plt.tight_layout()\n",
    "plt.show()"
   ]
  },
  {
   "cell_type": "code",
   "execution_count": 20,
   "id": "7e170a0f",
   "metadata": {},
   "outputs": [
    {
     "data": {
      "image/png": "[encoded data removed]",
      "text/plain": [
       "<Figure size 640x480 with 1 Axes>"
      ]
     },
     "metadata": {},
     "output_type": "display_data"
    }
   ],
   "source": [
    "# import matplotlib.pyplot as plt\n",
    "\n",
    "plt.scatter(data[\"Age\"], data[\"Fare\"], color=\"blue\")\n",
    "plt.xlabel(\"Age\")\n",
    "plt.ylabel(\"Fare\")\n",
    "plt.title(\"Age vs Fare\")\n",
    "plt.show()"
   ]
  },
  {
   "cell_type": "code",
   "execution_count": 12,
   "id": "c606ccbb",
   "metadata": {},
   "outputs": [
    {
     "data": {
      "text/plain": [
       "<Axes: xlabel='Age', ylabel='Fare'>"
      ]
     },
     "execution_count": 12,
     "metadata": {},
     "output_type": "execute_result"
    },
    {
     "data": {
      "image/png": "[encoded data removed]",
      "text/plain": [
       "<Figure size 640x480 with 1 Axes>"
      ]
     },
     "metadata": {},
     "output_type": "display_data"
    }
   ],
   "source": [
    "import seaborn as sns\n",
    "\n",
    "sns.scatterplot(data=data, x=\"Age\", y=\"Fare\", hue=\"Survived\")"
   ]
  },
  {
   "cell_type": "code",
   "execution_count": 22,
   "id": "d4b53f32",
   "metadata": {},
   "outputs": [
    {
     "data": {
      "application/vnd.plotly.v1+json": {
       "config": {
        "plotlyServerURL": "https://plot.ly"
       },
       "data": [
        {
         "hovertemplate": "<b>%{hovertext}</b><br><br>Survived=False<br>is_male=True<br>Age=%{x}<br>Fare=%{y}<br>Pclass=%{marker.size}<extra></extra>",
         "hovertext": [
          "Braund, Mr. Owen Harris",
          "Allen, Mr. William Henry",
          "Moran, Mr. James",
          "McCarthy, Mr. Timothy J",
          "Palsson, Master. Gosta Leonard",
          "Saundercock, Mr. William Henry",
          "Andersson, Mr. Anders Johan",
          "Rice, Master. Eugene",
          "Fynney, Mr. Joseph J",
          "Emir, Mr. Farred Chehab",
          "Fortune, Mr. Charles Alexander",
          "Todoroff, Mr. Lalio",
          "Uruchurtu, Don. Manuel E",
          "Wheadon, Mr. Edward H",
          "Meyer, Mr. Edgar Joseph",
          "Holverson, Mr. Alexander Oskar",
          "Cann, Mr. Ernest Charles",
          "Kraeff, Mr. Theodor",
          "Rogers, Mr. William John",
          "Lennon, Mr. Denis",
          "Samaan, Mr. Youssef",
          "Panula, Master. Juha Niilo",
          "Nosworthy, Mr. Richard Cater",
          "Ostby, Mr. Engelhart Cornelius",
          "Novel, Mr. Mansouer",
          "Goodwin, Master. William Frederick",
          "Sirayanian, Mr. Orsen",
          "Harris, Mr. Henry Birkhardt",
          "Skoog, Master. Harald",
          "Stewart, Mr. Albert A",
          "Crease, Mr. Ernest James",
          "Kink, Mr. Vincenz",
          "Jenkin, Mr. Stephen Curnow",
          "Hood, Mr. Ambrose Jr",
          "Chronopoulos, Mr. Apostolos",
          "Moen, Mr. Sigurd Hansen",
          "Staneff, Mr. Ivan",
          "Moutal, Mr. Rahamin Haim",
          "Waelens, Mr. Achille",
          "Carrau, Mr. Francisco M",
          "Ford, Mr. William Neal",
          "Slocovski, Mr. Selman Francis",
          "Celotti, Mr. Francesco",
          "Christmann, Mr. Emil",
          "Andreasson, Mr. Paul Edvin",
          "Chaffee, Mr. Herbert Fuller",
          "Dean, Mr. Bertram Frank",
          "Coxon, Mr. Daniel",
          "Shorney, Mr. Charles Joseph",
          "Goldschmidt, Mr. George B",
          "Kantor, Mr. Sinai",
          "Petroff, Mr. Pastcho (\"Pentcho\")",
          "White, Mr. Richard Frasar",
          "Johansson, Mr. Gustaf Joel",
          "Gustafsson, Mr. Anders Vilhelm",
          "Mionoff, Mr. Stoytcho",
          "Rekic, Mr. Tido",
          "Porter, Mr. Walter Chamberlain",
          "Barton, Mr. David John",
          "Pekoniemi, Mr. Edvard",
          "Connors, Mr. Patrick",
          "Turpin, Mr. William John Robert",
          "Baxter, Mr. Quigg Edmond",
          "Hickman, Mr. Stanley George",
          "Moore, Mr. Leonard Charles",
          "Nasser, Mr. Nicholas",
          "White, Mr. Percival Wayland",
          "McMahon, Mr. Martin",
          "Ekstrom, Mr. Johan",
          "Drazenoic, Mr. Jozef",
          "Coelho, Mr. Domingos Fernandeo",
          "Sobey, Mr. Samuel James Hayden",
          "Richard, Mr. Emile",
          "Futrelle, Mr. Jacques Heath",
          "Osen, Mr. Olaf Elon",
          "Giglio, Mr. Victor",
          "Burke, Mr. Jeremiah",
          "Andrew, Mr. Edgardo Samuel",
          "Nicholls, Mr. Joseph Charles",
          "Navratil, Mr. Michel (\"Louis M Hoffman\")",
          "Byles, Rev. Thomas Roussel Davids",
          "Bateman, Rev. Robert James",
          "Meo, Mr. Alfonzo",
          "van Billiard, Mr. Austin Blyler",
          "Olsen, Mr. Ole Martin",
          "Williams, Mr. Charles Duane",
          "Corn, Mr. Harry",
          "Smiljanic, Mr. Mile",
          "Sage, Master. Thomas Henry",
          "Cribb, Mr. John Hatfield",
          "Bengtsson, Mr. John Viktor",
          "Calic, Mr. Jovo",
          "Panula, Master. Eino Viljami",
          "Baumann, Mr. John D",
          "Ling, Mr. Lee",
          "Van der hoef, Mr. Wyckoff",
          "Rice, Master. Arthur",
          "Sivola, Mr. Antti Wilhelm",
          "Smith, Mr. James Clinch",
          "Klasen, Mr. Klas Albin",
          "Lefebre, Master. Henry Forbes",
          "Hale, Mr. Reginald",
          "Leonard, Mr. Lionel",
          "Pernot, Mr. Rene",
          "Asplund, Master. Clarence Gustaf Hugo",
          "Rood, Mr. Hugh Roscoe",
          "Bourke, Mr. John",
          "Turcin, Mr. Stjepan",
          "Carbines, Mr. William",
          "Mernagh, Mr. Robert",
          "Olsen, Mr. Karl Siegwart Andreas",
          "Vande Walle, Mr. Nestor Cyriel",
          "Sage, Mr. Frederick",
          "Johanson, Mr. Jakob Alfred",
          "Youseff, Mr. Gerious",
          "Backstrom, Mr. Karl Alfred",
          "Ali, Mr. Ahmed",
          "Perkin, Mr. John Henry",
          "Givard, Mr. Hans Kristensen",
          "Kiernan, Mr. Philip",
          "Jacobsohn, Mr. Sidney Samuel",
          "Harris, Mr. Walter",
          "Bracken, Mr. James H",
          "Green, Mr. George Henry",
          "Nenkoff, Mr. Christo",
          "Berglund, Mr. Karl Ivar Sven",
          "Lovell, Mr. John Hall (\"Henry\")",
          "Fahlstrom, Mr. Arne Jonas",
          "Larsson, Mr. Bengt Edvin",
          "Sjostedt, Mr. Ernst Adolf",
          "Leyson, Mr. Robert William Norman",
          "Hold, Mr. Stephen",
          "Pengelly, Mr. Frederick William",
          "Hunt, Mr. George Henry",
          "Coleridge, Mr. Reginald Charles",
          "Maenpaa, Mr. Matti Alexanteri",
          "Attalah, Mr. Sleiman",
          "Minahan, Dr. William Edward",
          "Carter, Rev. Ernest Courtenay",
          "Reed, Mr. James George",
          "Stead, Mr. William Thomas",
          "Lobb, Mr. William Arthur",
          "Smith, Mr. Thomas",
          "Taussig, Mr. Emil",
          "Harrison, Mr. William",
          "Reeves, Mr. David",
          "Panula, Mr. Ernesti Arvid",
          "Cairns, Mr. Alexander",
          "Natsch, Mr. Charles H",
          "Parkes, Mr. Francis \"Frank\"",
          "Rice, Master. Eric",
          "Duane, Mr. Frank",
          "Olsson, Mr. Nils Johan Goransson",
          "de Pelsmaeker, Mr. Alfons",
          "Smith, Mr. Richard William",
          "Stankovic, Mr. Ivan",
          "Naidenoff, Mr. Penko",
          "Levy, Mr. Rene Jacques",
          "Mineff, Mr. Ivan",
          "Lewy, Mr. Ervin G",
          "Hanna, Mr. Mansour",
          "Johnson, Mr. William Cahoone Jr",
          "Williams, Mr. Howard Hugh \"Harry\"",
          "Abelson, Mr. Samuel",
          "Hendekovic, Mr. Ignjac",
          "Hart, Mr. Benjamin",
          "Moraweck, Dr. Ernest",
          "Dennis, Mr. Samuel",
          "Danoff, Mr. Yoto",
          "Sage, Mr. George John Jr",
          "Nysveen, Mr. Johan Hansen",
          "Partner, Mr. Austen",
          "Graham, Mr. George Edward",
          "Vander Planke, Mr. Leo Edmondus",
          "Denkoff, Mr. Mitto",
          "Pears, Mr. Thomas Clinton",
          "Blackwell, Mr. Stephen Weart",
          "Collander, Mr. Erik Gustaf",
          "Sedgwick, Mr. Charles Frederick Waddington",
          "Fox, Mr. Stanley Hubert",
          "Dimic, Mr. Jovan",
          "Odahl, Mr. Nils Martin",
          "Williams-Lambert, Mr. Fletcher Fellows",
          "Elias, Mr. Tannous",
          "Arnold-Franchi, Mr. Josef",
          "Yousif, Mr. Wazli",
          "Vanden Steen, Mr. Leo Peter",
          "Skoog, Mr. Wilhelm",
          "del Carlo, Mr. Sebastiano",
          "Asim, Mr. Adola",
          "O'Brien, Mr. Thomas",
          "Adahl, Mr. Mauritz Nils Martin",
          "Wiklund, Mr. Jakob Alfred",
          "Beavan, Mr. William Thomas",
          "Ringhini, Mr. Sante",
          "Widener, Mr. Harry Elkins",
          "Betros, Mr. Tannous",
          "Gustafsson, Mr. Karl Gideon",
          "Tikkanen, Mr. Juho",
          "Plotcharsky, Mr. Vasil",
          "Davies, Mr. Charles Henry",
          "Goodwin, Master. Sidney Leonard",
          "Sadlier, Mr. Matthew",
          "Gustafsson, Mr. Johan Birger",
          "Johansson, Mr. Erik",
          "McKane, Mr. Peter David",
          "Pain, Dr. Alfred",
          "Adams, Mr. John",
          "Hakkarainen, Mr. Pekka Pietari",
          "Gale, Mr. Shadrach",
          "Widegren, Mr. Carl/Charles Peter",
          "Birkeland, Mr. Hans Martin Monsen",
          "Sdycoff, Mr. Todor",
          "Hart, Mr. Henry",
          "Cunningham, Mr. Alfred Fleming",
          "Matthews, Mr. William John",
          "Gheorgheff, Mr. Stanio",
          "Charters, Mr. David",
          "Zimmerman, Mr. Leo",
          "Rosblom, Mr. Viktor Richard",
          "Wiseman, Mr. Phillippe",
          "Flynn, Mr. James",
          "Kallio, Mr. Nikolai Erland",
          "Silvey, Mr. William Baird",
          "Fortune, Mr. Mark",
          "Kvillner, Mr. Johan Henrik Johannesson",
          "Hampe, Mr. Leon",
          "Petterson, Mr. Johan Emil",
          "West, Mr. Edwy Arthur",
          "Hagland, Mr. Ingvald Olai Olsen",
          "Foreman, Mr. Benjamin Laventall",
          "Peduzzi, Mr. Joseph",
          "Millet, Mr. Francis Davis",
          "O'Connor, Mr. Maurice",
          "Morley, Mr. William",
          "Gee, Mr. Arthur H",
          "Milling, Mr. Jacob Christian",
          "Maisner, Mr. Simon",
          "Goncalves, Mr. Manuel Estanslas",
          "Campbell, Mr. William",
          "Smart, Mr. John Montgomery",
          "Scanlan, Mr. James",
          "Keefe, Mr. Arthur",
          "Cacic, Mr. Luka",
          "Clifford, Mr. George Quincy",
          "Renouf, Mr. Peter Henry",
          "Braund, Mr. Lewis Richard",
          "Karlsson, Mr. Nils August",
          "Goodwin, Master. Harold Victor",
          "Frost, Mr. Anthony Wood \"Archie\"",
          "Rouse, Mr. Richard Henry",
          "Kent, Mr. Edward Austin",
          "Somerton, Mr. Francis William",
          "Hagland, Mr. Konrad Mathias Reiersen",
          "Windelov, Mr. Einar",
          "Molson, Mr. Harry Markland",
          "Artagaveytia, Mr. Ramon",
          "Stanley, Mr. Edward Roland",
          "Yousseff, Mr. Gerious",
          "Shellard, Mr. Frederick William",
          "Svensson, Mr. Olof",
          "Calic, Mr. Petar",
          "Penasco y Castellana, Mr. Victor de Satode",
          "Olsen, Mr. Henry Margido",
          "Webber, Mr. James",
          "Coleff, Mr. Satio",
          "Walker, Mr. William Anderson",
          "Ryan, Mr. Patrick",
          "Pavlovic, Mr. Stefo",
          "Vovk, Mr. Janko",
          "Lahoud, Mr. Sarkis",
          "Kassem, Mr. Fared",
          "Farrell, Mr. James",
          "Farthing, Mr. John",
          "Salonen, Mr. Johan Werner",
          "Hocking, Mr. Richard George",
          "Toufik, Mr. Nakli",
          "Elias, Mr. Joseph Jr",
          "Butt, Major. Archibald Willingham",
          "Risien, Mr. Samuel Beard",
          "Douglas, Mr. Walter Donald",
          "Nicholson, Mr. Arthur Ernest",
          "Goldsmith, Mr. Frank John",
          "Sharp, Mr. Percival James R",
          "O'Brien, Mr. Timothy",
          "Wright, Mr. George",
          "Robbins, Mr. Victor",
          "Morrow, Mr. Thomas Rowan",
          "Sivic, Mr. Husein",
          "Norman, Mr. Robert Douglas",
          "Simmons, Mr. John",
          "Davies, Mr. Alfred J",
          "Stoytcheff, Mr. Ilia",
          "Doharr, Mr. Tannous",
          "Rush, Mr. Alfred George John",
          "Patchett, Mr. George",
          "Downton, Mr. William James",
          "Ross, Mr. John Hugo",
          "Paulner, Mr. Uscher",
          "Jarvis, Mr. John Denzil",
          "Gilinski, Mr. Eliezer",
          "Murdlin, Mr. Joseph",
          "Rintamaki, Mr. Matti",
          "Elsbury, Mr. William James",
          "Chapman, Mr. John Henry",
          "Van Impe, Mr. Jean Baptiste",
          "Johnson, Mr. Alfred",
          "Boulos, Mr. Hanna",
          "Slabenoff, Mr. Petco",
          "Harrington, Mr. Charles H",
          "Torber, Mr. Ernst William",
          "Lindell, Mr. Edvard Bengtsson",
          "Karaic, Mr. Milan",
          "Jardin, Mr. Jose Neto",
          "Horgan, Mr. John",
          "Brocklebank, Mr. William Alfred",
          "Danbom, Mr. Ernst Gilbert",
          "Gavey, Mr. Lawrence",
          "Yasbeck, Mr. Antoni",
          "Hansen, Mr. Henry Damsgaard",
          "Bowen, Mr. David John \"Dai\"",
          "Sutton, Mr. Frederick",
          "Kirkland, Rev. Charles Leonard",
          "Bostandyeff, Mr. Guentcho",
          "O'Connell, Mr. Patrick D",
          "Lundahl, Mr. Johan Svensson",
          "Parr, Mr. William Henry Marsh",
          "Leinonen, Mr. Antti Gustaf",
          "Collyer, Mr. Harvey",
          "Thorneycroft, Mr. Percival",
          "Jensen, Mr. Hans Peder",
          "Cor, Mr. Liudevit",
          "Willey, Mr. Edward",
          "Mitkoff, Mr. Mito",
          "Kalvik, Mr. Johannes Halvorsen",
          "Hickman, Mr. Leonard Mark",
          "Radeff, Mr. Alexander",
          "Eitemiller, Mr. George Floyd",
          "Newell, Mr. Arthur Webster",
          "Badt, Mr. Mohamed",
          "Colley, Mr. Edward Pomeroy",
          "Coleff, Mr. Peju",
          "Hickman, Mr. Lewis",
          "Butler, Mr. Reginald Fenton",
          "Rommetvedt, Mr. Knud Paust",
          "Cook, Mr. Jacob",
          "Davidson, Mr. Thornton",
          "Mitchell, Mr. Henry Michael",
          "Watson, Mr. Ennis Hastings",
          "Edvardsson, Mr. Gustaf Hjalmar",
          "Sawyer, Mr. Frederick Charles",
          "Olsvigen, Mr. Thor Anderson",
          "Goodwin, Mr. Charles Edward",
          "Brown, Mr. Thomas William Solomon",
          "Laroche, Mr. Joseph Philippe Lemercier",
          "Panula, Mr. Jaako Arnold",
          "Dakic, Mr. Branko",
          "Fischer, Mr. Eberhard Thelander",
          "Saad, Mr. Khalil",
          "Weir, Col. John",
          "Chapman, Mr. Charles Henry",
          "Kelly, Mr. James",
          "Thayer, Mr. John Borland",
          "Humblen, Mr. Adolf Mathias Nicolai Olsen",
          "Gallagher, Mr. Martin",
          "Hansen, Mr. Henrik Juul",
          "Morley, Mr. Henry Samuel (\"Mr Henry Marshall\")",
          "Klaber, Mr. Herman",
          "Larsson, Mr. August Viktor",
          "Greenberg, Mr. Samuel",
          "Soholt, Mr. Peter Andreas Lauritz Andersen",
          "McEvoy, Mr. Michael",
          "Johnson, Mr. Malkolm Joackim",
          "Jensen, Mr. Svend Lauritz",
          "Gillespie, Mr. William Henry",
          "Hodges, Mr. Henry Price",
          "Oreskovic, Mr. Luka",
          "Bryhl, Mr. Kurt Arnold Gottfrid",
          "Hassan, Mr. Houssein G N",
          "Knight, Mr. Robert J",
          "Berriman, Mr. William John",
          "Troupiansky, Mr. Moses Aaron",
          "Williams, Mr. Leslie",
          "Ivanoff, Mr. Kanio",
          "Nankoff, Mr. Minko",
          "Cavendish, Mr. Tyrell William",
          "McNamee, Mr. Neal",
          "Crosby, Capt. Edward Gifford",
          "Abbott, Mr. Rossmore Edward",
          "Marvin, Mr. Daniel Warner",
          "Connaghton, Mr. Michael",
          "Vande Velde, Mr. Johannes Joseph",
          "Jonkoff, Mr. Lalio",
          "Carlsson, Mr. August Sigfrid",
          "Bailey, Mr. Percy Andrew",
          "Theobald, Mr. Thomas Leonard",
          "Garfirth, Mr. John",
          "Nirva, Mr. Iisakki Antino Aijo",
          "Eklund, Mr. Hans Linus",
          "Brewe, Dr. Arthur Jackson",
          "Moran, Mr. Daniel J",
          "Gronnestad, Mr. Daniel Danielsen",
          "Lievens, Mr. Rene Aime",
          "Jensen, Mr. Niels Peder",
          "Elias, Mr. Dibo",
          "Myhrman, Mr. Pehr Fabian Oliver Malkolm",
          "Tobin, Mr. Roger",
          "Kilgannon, Mr. Thomas J",
          "Long, Mr. Milton Clyde",
          "Johnston, Mr. Andrew G",
          "Ali, Mr. William",
          "Harmer, Mr. Abraham (David Lishin)",
          "Rice, Master. George Hugh",
          "Guggenheim, Mr. Benjamin",
          "Keane, Mr. Andrew \"Andy\"",
          "Gaskell, Mr. Alfred",
          "Hoyt, Mr. William Fisher",
          "Dantcheff, Mr. Ristiu",
          "Otter, Mr. Richard",
          "Ibrahim Shawah, Mr. Yousseff",
          "Ponesell, Mr. Martin",
          "Johansson, Mr. Karl Johan",
          "Andrews, Mr. Thomas Jr",
          "Meyer, Mr. August",
          "Alexander, Mr. William",
          "Lester, Mr. James",
          "Slemen, Mr. Richard James",
          "Tomlin, Mr. Ernest Portage",
          "Fry, Mr. Richard",
          "Mallet, Mr. Albert",
          "Holm, Mr. John Fredrik Alexander",
          "Skoog, Master. Karl Thorsten",
          "Reuchlin, Jonkheer. John George",
          "Panula, Master. Urho Abraham",
          "Flynn, Mr. John",
          "Lam, Mr. Len",
          "Saad, Mr. Amin",
          "Augustsson, Mr. Albert",
          "Allum, Mr. Owen George",
          "Pasic, Mr. Jakob",
          "Sirota, Mr. Maurice",
          "Alhomaki, Mr. Ilmari Rudolf",
          "Mudd, Mr. Thomas Charles",
          "Lemberopolous, Mr. Peter L",
          "Culumovic, Mr. Jeso",
          "Abbing, Mr. Anthony",
          "Sage, Mr. Douglas Bullen",
          "Markoff, Mr. Marin",
          "Harper, Rev. John",
          "Andersson, Master. Sigvard Harald Elias",
          "Svensson, Mr. Johan",
          "Razi, Mr. Raihed",
          "Hansen, Mr. Claus Peter",
          "Giles, Mr. Frederick Edward",
          "Gill, Mr. John William",
          "Roebling, Mr. Washington Augustus II",
          "van Melkebeke, Mr. Philemon",
          "Balkic, Mr. Cerin",
          "Carlsson, Mr. Frans Olof",
          "Vander Cruyssen, Mr. Victor",
          "Gustafsson, Mr. Alfred Ossian",
          "Petroff, Mr. Nedelio",
          "Laleff, Mr. Kristo",
          "Markun, Mr. Johann",
          "Banfield, Mr. Frederick James",
          "Sutehall, Mr. Henry Jr",
          "Montvila, Rev. Juozas",
          "Dooley, Mr. Patrick"
         ],
         "legendgroup": "False, True",
         "marker": {
          "color": "#636efa",
          "size": {
           "bdata": "AwMDAQMDAwMCAwEDAQIBAQMDAwMDAwMBAwMDAQMBAwMCAgMDAwMDAQMDAwMDAQMDAwECAwEDAwMDAQMDAwIBAgMCAQMDAwMCAgEDAQMCAgICAgMDAwEDAwMDAwMDAQMBAwMBAwMCAwIDAQMDAgMDAwMDAwMDAwIDAgICAwMDAwIDAgICAgICAwMBAgMBAwMBAQIDAQECAwMDAwEDAwIDAQMDAwIDAgIDAwMDAQEDAwEBAgICAwMBAwMDAwMCAwMDAwMBAQMDAwMCAwMDAwICAwMCAwMDAwICAwMDAwMDAwEBAgMDAgMBAwEDAwECAwMCAQMDAwECAwMDAgMBAwMDAQEDAwMDAwEDAwMBAwMDAwMDAQMCAwMBAwEBAwIDAQEDAwIDAwMDAwMCAQMCAwMDAwIDAwMDAQMDAwMDAwMCAwMDAQIDAwMBAwIDAwMDAwMCAwIBAwEDAgIDAwECAgMDAwMCAgMDAwMBAgMBAwMDAgEDAgMDAwMCAgMCAwICAgMDAwEDAQMBAwMDAwIDAwMDAQMDAwMDAwMDAQMDAwMBAwIBAwIDAgMBAgMDAgMBAgMDAQMDAwMDAwMDAwIDAwMDAwIDAwMDAgIBAwMBAwMDAwMCAwID",
           "dtype": "i1"
          },
          "sizemode": "area",
          "sizeref": 0.0075,
          "symbol": "circle"
         },
         "mode": "markers",
         "name": "False, True",
         "orientation": "v",
         "showlegend": true,
         "type": "scatter",
         "x": {
          "bdata": "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",
          "dtype": "f8"
         },
         "xaxis": "x",
         "y": {
          "bdata": "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",
          "dtype": "f8"
         },
         "yaxis": "y"
        },
        {
         "hovertemplate": "<b>%{hovertext}</b><br><br>Survived=False<br>is_male=False<br>Age=%{x}<br>Fare=%{y}<br>Pclass=%{marker.size}<extra></extra>",
         "hovertext": [
          "Vestrom, Miss. Hulda Amanda Adolfina",
          "Vander Planke, Mrs. Julius (Emelia Maria Vandemoortele)",
          "Palsson, Miss. Torborg Danira",
          "Vander Planke, Miss. Augusta Maria",
          "Ahlin, Mrs. Johan (Johanna Persdotter Larsson)",
          "Turpin, Mrs. William John Robert (Dorothy Ann Wonnacott)",
          "Arnold-Franchi, Mrs. Josef (Josefine Franchi)",
          "Goodwin, Miss. Lillian Amy",
          "Petranec, Miss. Matilda",
          "Zabour, Miss. Hileni",
          "Jussila, Miss. Katriina",
          "Attalah, Miss. Malake",
          "Andersson, Miss. Ellis Anna Maria",
          "Robins, Mrs. Alexander A (Grace Charity Laury)",
          "Boulos, Mrs. Joseph (Sultana)",
          "Ford, Miss. Robina Maggie \"Ruby\"",
          "Skoog, Mrs. William (Anna Bernhardina Karlsson)",
          "Isham, Miss. Ann Elizabeth",
          "Sage, Miss. Constance Gladys",
          "Yrois, Miss. Henriette (\"Mrs Harbeck\")",
          "Strom, Miss. Telma Matilda",
          "Lefebre, Miss. Mathilde",
          "Harknett, Miss. Alice Phoebe",
          "Zabour, Miss. Thamine",
          "Lindahl, Miss. Agda Thorilda Viktoria",
          "Strom, Mrs. Wilhelm (Elna Matilda Persson)",
          "Rosblom, Mrs. Viktor (Helena Wilhelmina)",
          "Henry, Miss. Delia",
          "Lindblom, Miss. Augusta Charlotta",
          "Haas, Miss. Aloisia",
          "Allison, Miss. Helen Loraine",
          "Lahtinen, Mrs. William (Anna Sylfven)",
          "Funk, Miss. Annie Clemmer",
          "Barbara, Mrs. (Catherine David)",
          "Palsson, Miss. Stina Viola",
          "Olsson, Miss. Elina",
          "Jussila, Miss. Mari Aina",
          "Oreskovic, Miss. Marija",
          "Lefebre, Miss. Ida",
          "Meek, Mrs. Thomas (Annie Louise Rowley)",
          "Van Impe, Miss. Catharina",
          "Danbom, Mrs. Ernst Gilbert (Anna Sigrid Maria Brogren)",
          "Ford, Miss. Doolina Margaret \"Daisy\"",
          "Strandberg, Miss. Ida Sofia",
          "Lefebre, Miss. Jeannie",
          "Allison, Mrs. Hudson J C (Bessie Waldo Daniels)",
          "Canavan, Miss. Mary",
          "O'Sullivan, Miss. Bridget Mary",
          "Laitinen, Miss. Kristina Sofia",
          "Cacic, Miss. Marija",
          "Andersson, Miss. Ingeborg Constanzia",
          "Andersson, Miss. Sigrid Elisabeth",
          "Meanwell, Miss. (Marion Ogden)",
          "Palsson, Mrs. Nils (Alma Cornelia Berglund)",
          "Caram, Mrs. Joseph (Maria Elias)",
          "Bourke, Miss. Mary",
          "Andersson, Mrs. Anders Johan (Alfrida Konstantia Brogren)",
          "Lobb, Mrs. William Arthur (Cordelia K Stanlick)",
          "Skoog, Miss. Mabel",
          "Panula, Mrs. Juha (Maria Emilia Ojala)",
          "Skoog, Miss. Margit Elizabeth",
          "Hegarty, Miss. Hanora \"Nora\"",
          "Bourke, Mrs. John (Catherine)",
          "Goodwin, Mrs. Frederick (Augusta Tyler)",
          "Peters, Miss. Katie",
          "Barbara, Miss. Saiide",
          "Ilmakangas, Miss. Pieta Sofia",
          "Ford, Mrs. Edward (Margaret Ann Watson)",
          "Mangan, Miss. Mary",
          "Mack, Mrs. (Mary)",
          "Sage, Miss. Stella Anna",
          "Van Impe, Mrs. Jean Baptiste (Rosalie Paula Govaert)",
          "Pettersson, Miss. Ellen Natalia",
          "Andersson, Miss. Ebba Iris Alfrida",
          "Heininen, Miss. Wendla Maria",
          "Boulos, Miss. Nourelain",
          "Carter, Mrs. Ernest Courtenay (Lilian Hughes)",
          "Sage, Miss. Dorothy Edith \"Dolly\"",
          "Dahlberg, Miss. Gerda Ulrika",
          "Rice, Mrs. William (Margaret Norton)",
          "Johnston, Miss. Catherine Helen \"Carrie\""
         ],
         "legendgroup": "False, False",
         "marker": {
          "color": "#636efa",
          "size": {
           "bdata": "AwMDAwMCAwMDAwMDAwMDAwMBAwIDAwMDAwMDAwMDAQICAwMDAwMDAwMDAwMDAQMDAwMDAwMDAwMDAwMDAwMDAwMDAwMDAgMDAwMDAwIDAwMD",
           "dtype": "i1"
          },
          "sizemode": "area",
          "sizeref": 0.0075,
          "symbol": "diamond"
         },
         "mode": "markers",
         "name": "False, False",
         "orientation": "v",
         "showlegend": true,
         "type": "scatter",
         "x": {
          "bdata": "AAAAAAAALEAAAAAAAAA/QAAAAAAAACBAAAAAAAAAMkAAAAAAAABEQAAAAAAAADtAAAAAAAAAMkAAAAAAAAAwQAAAAAAAADxAAAAAAAAALUAAAAAAAAA0QAAAAAAAADFAAAAAAAAAAEAAAAAAAIBHQAAAAAAAAPh/AAAAAAAAIkAAAAAAAIBGQAAAAAAAAElAAAAAAAAA+H8AAAAAAAA4QAAAAAAAAABAAAAAAAAA+H8AAAAAAAD4fwAAAAAAAPh/AAAAAAAAOUAAAAAAAAA9QAAAAAAAgERAAAAAAAAA+H8AAAAAAIBGQAAAAAAAADhAAAAAAAAAAEAAAAAAAAA6QAAAAAAAAENAAAAAAACARkAAAAAAAAAIQAAAAAAAAD9AAAAAAAAANUAAAAAAAAA0QAAAAAAAAPh/AAAAAAAA+H8AAAAAAAAkQAAAAAAAADxAAAAAAAAANUAAAAAAAAA2QAAAAAAAAPh/AAAAAAAAOUAAAAAAAAA1QAAAAAAAAPh/AAAAAACAQkAAAAAAAAA+QAAAAAAAACJAAAAAAAAAJkAAAAAAAAD4fwAAAAAAAD1AAAAAAAAA+H8AAAAAAAD4fwAAAAAAgENAAAAAAAAAOkAAAAAAAAAiQAAAAAAAgERAAAAAAAAAAEAAAAAAAAAyQAAAAAAAAEBAAAAAAACARUAAAAAAAAD4fwAAAAAAADJAAAAAAAAAOUAAAAAAAABIQAAAAAAAgD5AAAAAAACATEAAAAAAAAD4fwAAAAAAAD5AAAAAAAAAMkAAAAAAAAAYQAAAAAAAADdAAAAAAAAAIkAAAAAAAABGQAAAAAAAAPh/AAAAAAAANkAAAAAAAIBDQAAAAAAAAPh/",
          "dtype": "f8"
         },
         "xaxis": "x",
         "y": {
          "bdata": "CfmgZ7NqH0AAAAAAAAAyQDMzMzMzEzVAAAAAAAAAMkAzMzMzM/MiQAAAAAAAADVAzczMzMzMMUAzMzMzM3NHQPcGX5hMlR9AuK8D54zoLEBmZmZmZqYjQHuDL0ym6ixAZmZmZmZGP0AAAAAAAAAtQK62Yn/ZfS5AAAAAAAAwQUBmZmZmZuY7QGZmZmZmtjxAMzMzMzNjUUAAAAAAAAAqQM3MzMzM7CRADwu1pnl3OUAzMzMzMzMeQLivA+eM6CxAmpmZmZkZH0DNzMzMzOwkQGZmZmZmNjRAAAAAAAAAH0AAAAAAAAAfQDMzMzMzsyFAmpmZmZnxYkAAAAAAAAA6QAAAAAAAACpAuK8D54zoLEAzMzMzMxM1QAn5oGezah9AZmZmZmamI0AzMzMzM1MhQA8LtaZ5dzlAmpmZmZkZIEBmZmZmZiY4QM3MzMzMzCxAAAAAAAAwQUDNzMzMzKwjQA8LtaZ5dzlAmpmZmZnxYkAAAAAAAAAfQKOSOgFNhB5AzczMzMwsI0AzMzMzM1MhQGZmZmZmRj9AZmZmZmZGP0CamZmZmRkgQDMzMzMzEzVAe4MvTKbqLEAAAAAAAAAfQGZmZmZmRj9AmpmZmZkZMEBmZmZmZuY7QAAAAAAA2ENAZmZmZmbmO0AAAAAAAAAbQAAAAAAAAC9AMzMzMzNzR0BmZmZmZkYgQLivA+eM6CxAMzMzMzOzH0AAAAAAADBBQAAAAAAAAB9AAAAAAAAAJUAzMzMzM2NRQGZmZmZmJjhAmpmZmZkZH0BmZmZmZkY/QDMzMzMzsx9ArrZif9l9LkAAAAAAAAA6QDMzMzMzY1FAuK8D54wIJUAAAAAAACA9QDMzMzMzczdA",
          "dtype": "f8"
         },
         "yaxis": "y"
        },
        {
         "hovertemplate": "<b>%{hovertext}</b><br><br>Survived=True<br>is_male=True<br>Age=%{x}<br>Fare=%{y}<br>Pclass=%{marker.size}<extra></extra>",
         "hovertext": [
          "Williams, Mr. Charles Eugene",
          "Beesley, Mr. Lawrence",
          "Sloper, Mr. William Thompson",
          "Mamee, Mr. Hanna",
          "Woolner, Mr. Hugh",
          "Moubarek, Master. Gerios",
          "Bing, Mr. Lee",
          "Caldwell, Master. Alden Gates",
          "Sheerlinck, Mr. Jan Baptist",
          "Greenfield, Mr. William Bertram",
          "Moss, Mr. Albert Johan",
          "Nicola-Yarred, Master. Elias",
          "Madsen, Mr. Fridtjof Arne",
          "Andersson, Mr. August Edvard (\"Wennerstrom\")",
          "Goldsmith, Master. Frank John William \"Frankie\"",
          "Becker, Master. Richard F",
          "Romaine, Mr. Charles Hallace (\"Mr C Rolmane\")",
          "Navratil, Master. Michel M",
          "Cohen, Mr. Gurshon \"Gus\"",
          "Albimona, Mr. Nassef Cassem",
          "Blank, Mr. Henry",
          "Sunderland, Mr. Victor Francis",
          "Hoyt, Mr. Frederick Maxfield",
          "Mellors, Mr. William John",
          "Beckwith, Mr. Richard Leonard",
          "Asplund, Master. Edvin Rojj Felix",
          "Persson, Mr. Ernst Ulrik",
          "Tornquist, Mr. William Henry",
          "Dorking, Mr. Edward Arthur",
          "de Mulder, Mr. Theodore",
          "Hosono, Mr. Masabumi",
          "Saalfeld, Mr. Adolphe",
          "McCoy, Mr. Bernard",
          "Allison, Master. Hudson Trevor",
          "Dahl, Mr. Karl Edwart",
          "Navratil, Master. Edmond Roger",
          "Coutts, Master. William Loch \"William\"",
          "Harder, Mr. George Achilles",
          "Carter, Mr. William Ernest",
          "Jansson, Mr. Carl Olof",
          "Niskanen, Mr. Juha",
          "Richards, Master. William Rowe",
          "Sundman, Mr. Johan Julian",
          "Pickard, Mr. Berk (Berk Trembisky)",
          "Bjornstrom-Steffansson, Mr. Mauritz Hakan",
          "Johannesen-Bratthammer, Mr. Bernt",
          "Dodge, Master. Washington",
          "Seward, Mr. Frederic Kimber",
          "Peuchen, Major. Arthur Godfrey",
          "Goldenberg, Mr. Samuel L",
          "Jalsevac, Mr. Ivan",
          "Anderson, Mr. Harry",
          "Bishop, Mr. Dickinson H",
          "Coutts, Master. Eden Leslie \"Neville\"",
          "Bradley, Mr. George (\"George Arthur Brayton\")",
          "Lang, Mr. Fang",
          "Daly, Mr. Eugene Patrick",
          "McGough, Mr. James Robert",
          "Beane, Mr. Edward",
          "Padro y Manent, Mr. Julian",
          "Davies, Master. John Morgan Jr",
          "Thayer, Mr. John Borland Jr",
          "Leeni, Mr. Fahim (\"Philip Zenni\")",
          "Jonsson, Mr. Carl",
          "Harris, Mr. George",
          "Flynn, Mr. John Irwin (\"Irving\")",
          "Jussila, Mr. Eiriik",
          "Frolicher-Stehli, Mr. Maxmillian",
          "Duff Gordon, Sir. Cosmo Edmund (\"Mr Morgan\")",
          "Homer, Mr. Harry (\"Mr E Haven\")",
          "Daniel, Mr. Robert Williams",
          "Kimball, Mr. Edwin Nelson Jr",
          "Nakid, Mr. Sahid",
          "Barkworth, Mr. Algernon Henry Wilson",
          "Stahelin-Maeglin, Dr. Max",
          "Foo, Mr. Choong",
          "Harper, Mr. Henry Sleeper",
          "Simonius-Blumer, Col. Oberst Alfons",
          "Frauenthal, Dr. Henry William",
          "Lindqvist, Mr. Eino William",
          "Wilhelms, Mr. Charles",
          "Cardeza, Mr. Thomas Drake Martinez",
          "Hassab, Mr. Hammad",
          "Dick, Mr. Albert Adrian",
          "Lam, Mr. Ali",
          "Silverthorne, Mr. Spencer Victor",
          "Calderhead, Mr. Edward Pennington",
          "Moubarek, Master. Halim Gonios (\"William George\")",
          "Taylor, Mr. Elmer Zebley",
          "Chambers, Mr. Norman Campbell",
          "Lesurer, Mr. Gustave J",
          "Hawksford, Mr. Walter James",
          "Stranden, Mr. Juho",
          "Moor, Master. Meier",
          "Hamalainen, Master. Viljo",
          "Barah, Mr. Hanna Assi",
          "Dean, Master. Bertram Vere",
          "Carter, Master. William Thornton II",
          "Thomas, Master. Assad Alexander",
          "Hedman, Mr. Oskar Arvid",
          "Lulic, Mr. Nikola",
          "Mallet, Master. Andre",
          "McCormack, Mr. Thomas Joseph",
          "Richards, Master. George Sibley",
          "Chip, Mr. Chang",
          "Marechal, Mr. Pierre",
          "Daly, Mr. Peter Denis ",
          "Johnson, Master. Harold Theodor",
          "Behr, Mr. Karl Howell"
         ],
         "legendgroup": "True, True",
         "marker": {
          "color": "#EF553B",
          "size": {
           "bdata": "AgIBAwEDAwIDAQMDAwMDAgECAwMBAwECAQMDAwMDAgEDAQMCAwEBAwMCAwMBAwEBAQEDAQEDAQMDAQICAgEDAwIBAwEBAQEBAwEBAwEBAQMCAQEBAwEBAwEBAQEDAwIDAwEDAwMCAwIDAQEDAQ==",
           "dtype": "i1"
          },
          "sizemode": "area",
          "sizeref": 0.0075,
          "symbol": "circle"
         },
         "mode": "markers",
         "name": "True, True",
         "orientation": "v",
         "showlegend": true,
         "type": "scatter",
         "x": {
          "bdata": "AAAAAAAA+H8AAAAAAABBQAAAAAAAADxAAAAAAAAA+H8AAAAAAAD4fwAAAAAAAPh/AAAAAAAAQECPwvUoXI/qPwAAAAAAAD1AAAAAAAAAN0AAAAAAAAD4fwAAAAAAAChAAAAAAAAAOEAAAAAAAAA7QAAAAAAAACJAAAAAAAAA8D8AAAAAAIBGQAAAAAAAAAhAAAAAAAAAMkAAAAAAAAA6QAAAAAAAAERAAAAAAAAAMEAAAAAAAABDQAAAAAAAADNAAAAAAACAQkAAAAAAAAAIQAAAAAAAADlAAAAAAAAAOUAAAAAAAAAzQAAAAAAAAD5AAAAAAAAARUAAAAAAAAD4fwAAAAAAAPh/cT0K16Nw7T8AAAAAAIBGQAAAAAAAAABAAAAAAAAACEAAAAAAAAA5QAAAAAAAAEJAAAAAAAAANUAAAAAAAIBDQAAAAAAAAAhAAAAAAAAARkAAAAAAAABAQAAAAAAAADxAAAAAAAAA+H8AAAAAAAAQQAAAAAAAAEFAAAAAAAAASkAAAAAAAIBIQAAAAAAAAD1AAAAAAAAASEAAAAAAAAA5QAAAAAAAACJAAAAAAAAA+H8AAAAAAAA6QAAAAAAAAD1AAAAAAAAAQkAAAAAAAABAQAAAAAAAAPh/AAAAAAAAIEAAAAAAAAAxQAAAAAAAADZAAAAAAAAAQEAAAAAAAABPQAAAAAAAAEJAAAAAAAAAQEAAAAAAAABOQAAAAAAAgEhAAAAAAACAQUAAAAAAAAA7QAAAAAAAAEVAAAAAAAAANEAAAAAAAABUQAAAAAAAAEBAAAAAAAAA+H8AAAAAAABIQAAAAAAAAExAAAAAAAAASUAAAAAAAAA0QAAAAAAAAD9AAAAAAAAAQkAAAAAAAAA7QAAAAAAAAD9AAAAAAAAA+H8AAAAAAIBBQAAAAAAAAEVAAAAAAAAA+H8AAAAAAABIQAAAAAAAADtAAAAAAACAQUAAAAAAAAD4fwAAAAAAAD9AAAAAAAAAGEBxPQrXo3DlPwAAAAAAADRAAAAAAAAA8D8AAAAAAAAmQOF6FK5H4do/AAAAAAAAO0AAAAAAAAA7QAAAAAAAAPA/AAAAAAAA+H+PwvUoXI/qPwAAAAAAAEBAAAAAAAAA+H8AAAAAAIBJQAAAAAAAABBAAAAAAAAAOkA=",
          "dtype": "f8"
         },
         "xaxis": "x",
         "y": {
          "bdata": "AAAAAAAAKkAAAAAAAAAqQAAAAAAAwEFACfmgZ7PqHEAAAAAAAMBBQK62Yn/ZfS5ArK3YX3Y/TEAAAAAAAAA9QAAAAAAAACNAEhQ/xtytT0CamZmZmRkfQOviNhrAeyZAcF8HzhmRHECQoPgx5i4fQGZmZmZmhjRAAAAAAACAQ0DNzMzMzIw6QAAAAAAAADpAmpmZmZkZIECamZmZmckyQAAAAAAAAD9AmpmZmZkZIEAAAAAAAIBWQAAAAAAAACVAu7iNBvBGSkAzMzMzM2M/QJqZmZmZGR9AAAAAAAAAAACamZmZmRkgQAAAAAAAACNAAAAAAAAAKkAAAAAAAIA+QAAAAAAAQDdAmpmZmZnxYkCamZmZmRkgQAAAAAAAADpAzczMzMzML0BUUiegibhLQAAAAAAAAF5AkKD4MeYuH0AzMzMzM7MfQAAAAAAAwDJAMzMzMzOzH0CamZmZmRkgQM3MzMzMjDpAmpmZmZk5IEAJih9j7nZUQM3MzMzMjDpAAAAAAACAPkCRD3o2q0ZWQPcGX5hMlR9AzczMzMyMOkD3deCcEcVWQM3MzMzMzC9AzczMzMyMOkCsrdhfdj9MQAAAAAAAAB9AmpmZmZlJOkAAAAAAAAA6QJqZmZmZuStAAAAAAABgQkCjI7n8h7hbQGZmZmZm5hxACfmgZ7NqH0AAAAAAAAAlQDMzMzMzYzpAMzMzMzOzH0DNzMzMzMxTQLu4jQbwdkxAzczMzMyMOkAAAAAAAIA+QLu4jQbwRkpA6+I2GsB7L0AAAAAAAAA+QAAAAAAAgD5ArK3YX3Y/TECRD3o2qy5TQAAAAAAAwEFAzczMzMy0YEAzMzMzM7MfQAAAAAAAACpAvw6cM6ICgECRD3o2qy5TQAAAAAAAgExArK3YX3Y/TECamZmZmUk6QJqZmZmZSTpArrZif9l9LkAAAAAAAABKQM3MzMzMjEpAvw6cM6ICgEAAAAAAAAA+QDMzMzMzsx9AMzMzMzPzKEAAAAAAAAAtQAn5oGez6hxAMzMzMzOTNEAAAAAAAABeQLivA+eMCCFAZmZmZmbmG0AzMzMzM1MhQFRSJ6CJgEJAAAAAAAAAH0AAAAAAAMAyQKyt2F92P0xAMzMzMzOzPUDNzMzMzIw6QBUdyeU/RCZAAAAAAAAAPkA=",
          "dtype": "f8"
         },
         "yaxis": "y"
        },
        {
         "hovertemplate": "<b>%{hovertext}</b><br><br>Survived=True<br>is_male=False<br>Age=%{x}<br>Fare=%{y}<br>Pclass=%{marker.size}<extra></extra>",
         "hovertext": [
          "Cumings, Mrs. John Bradley (Florence Briggs Thayer)",
          "Heikkinen, Miss. Laina",
          "Futrelle, Mrs. Jacques Heath (Lily May Peel)",
          "Johnson, Mrs. Oscar W (Elisabeth Vilhelmina Berg)",
          "Nasser, Mrs. Nicholas (Adele Achem)",
          "Sandstrom, Miss. Marguerite Rut",
          "Bonnell, Miss. Elizabeth",
          "Hewlett, Mrs. (Mary D Kingcome) ",
          "Masselmani, Mrs. Fatima",
          "McGowan, Miss. Anna \"Annie\"",
          "Asplund, Mrs. Carl Oscar (Selma Augusta Emilia Johansson)",
          "O'Dwyer, Miss. Ellen \"Nellie\"",
          "Spencer, Mrs. William Augustus (Marie Eugenie)",
          "Glynn, Miss. Mary Agatha",
          "Nicola-Yarred, Miss. Jamila",
          "Laroche, Miss. Simonne Marie Anne Andree",
          "Devaney, Miss. Margaret Delia",
          "O'Driscoll, Miss. Bridget",
          "Harper, Mrs. Henry Sleeper (Myna Haxtun)",
          "Faunthorpe, Mrs. Lizzie (Elizabeth Anne Wilkinson)",
          "Rugg, Miss. Emily",
          "West, Miss. Constance Mirium",
          "Icard, Miss. Amelie",
          "Nye, Mrs. (Elizabeth Ramell)",
          "Andersson, Miss. Erna Alexandra",
          "Dowdell, Miss. Elizabeth",
          "McDermott, Miss. Brigdet Delia",
          "Ilett, Miss. Bertha",
          "Backstrom, Mrs. Karl Alfred (Maria Mathilda Gustafsson)",
          "Fortune, Miss. Mabel Helen",
          "Doling, Mrs. John T (Ada Julia Bone)",
          "Salkjelsvik, Miss. Anna Kristine",
          "Moran, Miss. Bertha",
          "Webber, Miss. Susan",
          "Peter, Miss. Anna",
          "Weisz, Mrs. Leopold (Mathilde Francoise Pede)",
          "Newsom, Miss. Helen Monypeny",
          "Nysten, Miss. Anna Sofia",
          "Hakkarainen, Mrs. Pekka Pietari (Elin Matilda Dolck)",
          "Pears, Mrs. Thomas (Edith Wearne)",
          "Gilnagh, Miss. Katherine \"Katie\"",
          "Watt, Mrs. James (Elizabeth \"Bessie\" Inglis Milne)",
          "Chibnall, Mrs. (Edith Martha Bowerman)",
          "Johnson, Miss. Eleanor Ileen",
          "Kink-Heilmann, Miss. Luise Gretchen",
          "O'Brien, Mrs. Thomas (Johanna \"Hannah\" Godfrey)",
          "Pinsky, Mrs. (Rosa)",
          "Andersen-Jensen, Miss. Carla Christine Nielsine",
          "Brown, Mrs. James Joseph (Margaret Tobin)",
          "Lurette, Miss. Elise",
          "Madigan, Miss. Margaret \"Maggie\"",
          "Carr, Miss. Helen \"Ellen\"",
          "Cameron, Miss. Clear Annie",
          "Newell, Miss. Madeleine",
          "Honkanen, Miss. Eliina",
          "Bazzani, Miss. Albina",
          "Harris, Mrs. Henry Birkhardt (Irene Wallach)",
          "Asplund, Miss. Lillian Gertrud",
          "Collyer, Miss. Marjorie \"Lottie\"",
          "Murphy, Miss. Katherine \"Kate\"",
          "Hamalainen, Mrs. William (Anna)",
          "Touma, Mrs. Darwis (Hanne Youssef Razi)",
          "Thorne, Mrs. Gertrude Maybelle",
          "Cherry, Miss. Gladys",
          "Ward, Miss. Anna",
          "Parrish, Mrs. (Lutie Davis)",
          "Graham, Mrs. William Thompson (Edith Junkins)",
          "Bissette, Miss. Amelia",
          "Mellinger, Mrs. (Elizabeth Anne Maidment)",
          "Healy, Miss. Hanora \"Nora\"",
          "Andrews, Miss. Kornelia Theodosia",
          "Abbott, Mrs. Stanton (Rosa Hunt)",
          "Connolly, Miss. Kate",
          "Barber, Miss. Ellen \"Nellie\"",
          "Bishop, Mrs. Dickinson H (Helen Walton)",
          "Baxter, Mrs. James (Helene DeLaudeniere Chaput)",
          "Kelly, Miss. Anna Katherine \"Annie Kate\"",
          "Keane, Miss. Nora A",
          "Fleming, Miss. Margaret",
          "Penasco y Castellana, Mrs. Victor de Satode (Maria Josefa Perez de Soto y Vallejo)",
          "Francatelli, Miss. Laura Mabel",
          "Hays, Miss. Margaret Bechstein",
          "Ryerson, Miss. Emily Borie",
          "Nilsson, Miss. Helmina Josefina",
          "Kantor, Mrs. Sinai (Miriam Sternin)",
          "Wick, Miss. Mary Natalie",
          "Spedden, Mrs. Frederic Oakley (Margaretta Corning Stone)",
          "Slayter, Miss. Hilda Mary",
          "Caldwell, Mrs. Albert Francis (Sylvia Mae Harbaugh)",
          "Young, Miss. Marie Grice",
          "Ball, Mrs. (Ada E Hall)",
          "Goldsmith, Mrs. Frank John (Emily Alice Brown)",
          "Hippach, Miss. Jean Gertrude",
          "McCoy, Miss. Agnes",
          "Frauenthal, Mrs. Henry William (Clara Heinsheimer)",
          "Burns, Miss. Elizabeth Margaret",
          "Fortune, Miss. Alice Elizabeth",
          "Brown, Miss. Amelia \"Mildred\"",
          "Smith, Miss. Marion Elsie",
          "Davison, Mrs. Thomas Henry (Mary E Finck)",
          "Bowerman, Miss. Elsie Edith",
          "McGovern, Miss. Mary",
          "Mockler, Miss. Helen Mary \"Ellie\"",
          "Warren, Mrs. Frank Manley (Anna Sophia Atkinson)",
          "Moussa, Mrs. (Mantoura Boulos)",
          "Jermyn, Miss. Annie",
          "Aubart, Mme. Leontine Pauline",
          "Meyer, Mrs. Edgar Joseph (Leila Saks)",
          "Landergren, Miss. Aurora Adelia",
          "Bidois, Miss. Rosalie",
          "Nakid, Miss. Maria (\"Mary\")",
          "Holverson, Mrs. Alexander Oskar (Mary Aline Towner)",
          "Buss, Miss. Kate",
          "Lehmann, Miss. Bertha",
          "Newell, Miss. Marjorie",
          "Sandstrom, Mrs. Hjalmar (Agnes Charlotta Bengtsson)",
          "Trout, Mrs. William H (Jessie L)",
          "Minahan, Miss. Daisy E",
          "Drew, Mrs. James Vivian (Lulu Thorne Christian)",
          "Silven, Miss. Lyyli Karoliina",
          "Clarke, Mrs. Charles V (Ada Maria Winfield)",
          "Phillips, Miss. Kate Florence (\"Mrs Kate Louise Phillips Marshall\")",
          "Thorneycroft, Mrs. Percival (Florence Kate White)",
          "Louch, Mrs. Charles Alexander (Alice Adelaide Slow)",
          "Carter, Miss. Lucile Polk",
          "Richards, Mrs. Sidney (Emily Hocking)",
          "Hart, Mrs. Benjamin (Esther Ada Bloomfield)",
          "Reynaldo, Ms. Encarnacion",
          "Mellinger, Miss. Madeleine Violet",
          "Baclini, Miss. Marie Catherine",
          "Kenyon, Mrs. Frederick R (Marion)",
          "Toomey, Miss. Ellen",
          "Baclini, Miss. Helene Barbara",
          "West, Mrs. Edwy Arthur (Ada Mary Worth)",
          "Jerwan, Mrs. Amin S (Marie Marthe Thuillard)",
          "Hirvonen, Miss. Hildur E",
          "Turkula, Mrs. (Hedwig)",
          "Hoyt, Mrs. Frederick Maxfield (Jane Anne Forby)",
          "Eustis, Miss. Elizabeth Mussey",
          "Maioni, Miss. Roberta",
          "Quick, Mrs. Frederick Charles (Jane Richards)",
          "Rothschild, Mrs. Martin (Elizabeth L. Barrett)",
          "Lemore, Mrs. (Amelia Milley)",
          "Angle, Mrs. William A (Florence \"Mary\" Agnes Hughes)",
          "Perreault, Miss. Anne",
          "Hippach, Mrs. Louis Albert (Ida Sophia Fischer)",
          "Ridsdale, Miss. Lucy",
          "Quick, Miss. Phyllis May",
          "Peter, Mrs. Catherine (Catherine Rizk)",
          "Hart, Miss. Eva Miriam",
          "LeRoy, Miss. Bertha",
          "Frolicher, Miss. Hedwig Margaritha",
          "Crosby, Miss. Harriet R",
          "Beane, Mrs. Edward (Ethel Clarke)",
          "Ohman, Miss. Velin",
          "Duff Gordon, Lady. (Lucille Christiana Sutherland) (\"Mrs Morgan\")",
          "Taussig, Mrs. Emil (Tillie Mandelbaum)",
          "de Messemaeker, Mrs. Guillaume Joseph (Emma)",
          "Appleton, Mrs. Edward Dale (Charlotte Lamson)",
          "Kelly, Miss. Mary",
          "Garside, Miss. Ethel",
          "Silvey, Mrs. William Baird (Alice Munger)",
          "Christy, Miss. Julie Rachel",
          "Thayer, Mrs. John Borland (Marian Longstreth Morris)",
          "Taussig, Miss. Ruth",
          "Stephenson, Mrs. Walter Bertram (Martha Eustis)",
          "Leitch, Miss. Jessie Wills",
          "Jacobsohn, Mrs. Sidney Samuel (Amy Frances Christy)",
          "Laroche, Mrs. Joseph (Juliette Marie Louise Lafargue)",
          "Shutes, Miss. Elizabeth W",
          "Murphy, Miss. Margaret Jane",
          "Herman, Miss. Alice",
          "Becker, Miss. Marion Louise",
          "Longley, Miss. Gretchen Fiske",
          "Davis, Miss. Mary",
          "Sagesser, Mlle. Emma",
          "Baclini, Miss. Eugenie",
          "Stanley, Miss. Amy Zillah Elsie",
          "Doling, Miss. Elsie",
          "O'Leary, Miss. Hanora \"Norah\"",
          "Taylor, Mrs. Elmer Zebley (Juliet Cummins Wright)",
          "Brown, Mrs. Thomas William Solomon (Elizabeth Catherine Ford)",
          "Turja, Miss. Anna Sofia",
          "Madill, Miss. Georgette Alexandra",
          "Karun, Miss. Manca",
          "Mullens, Miss. Katherine \"Katie\"",
          "Astor, Mrs. John Jacob (Madeleine Talmadge Force)",
          "Kelly, Mrs. Florence \"Fannie\"",
          "Cleaver, Miss. Alice",
          "Mayne, Mlle. Berthe Antonine (\"Mrs de Villiers\")",
          "Endres, Miss. Caroline Louise",
          "Troutt, Miss. Edwina Celia \"Winnie\"",
          "Harper, Miss. Annie Jessie \"Nina\"",
          "Renouf, Mrs. Peter Henry (Lillian Jefferys)",
          "Mannion, Miss. Margareth",
          "Allen, Miss. Elisabeth Walton",
          "Ryerson, Miss. Susan Parker \"Suzette\"",
          "Sinkkonen, Miss. Anna",
          "Wells, Miss. Joan",
          "Herman, Mrs. Samuel (Jane Laver)",
          "Rothes, the Countess. of (Lucy Noel Martha Dyer-Edwards)",
          "Carter, Mrs. William Ernest (Lucile Polk)",
          "Hogeboom, Mrs. John C (Anna Andrews)",
          "Hocking, Mrs. Elizabeth (Eliza Needs)",
          "Emanuel, Miss. Virginia Ethel",
          "Robert, Mrs. Edward Scott (Elisabeth Walton McMillan)",
          "Ayoub, Miss. Banoura",
          "Dick, Mrs. Albert Adrian (Vera Gillespie)",
          "Sjoblom, Miss. Anna Sofia",
          "Leader, Dr. Alice (Farnham)",
          "Osman, Mrs. Mara",
          "Collyer, Mrs. Harvey (Charlotte Annie Tate)",
          "Chambers, Mrs. Norman Campbell (Bertha Griggs)",
          "Hays, Mrs. Charles Melville (Clara Jennings Gregg)",
          "Moor, Mrs. (Beila)",
          "Stone, Mrs. George Nelson (Martha Evelyn)",
          "Yasbeck, Mrs. Antoni (Selini Alexander)",
          "Compton, Miss. Sara Rebecca",
          "Serepeca, Miss. Augusta",
          "Goldenberg, Mrs. Samuel L (Edwiga Grabowska)",
          "Lines, Miss. Mary Conover",
          "Aks, Mrs. Sam (Leah Rosen)",
          "Wick, Mrs. George Dennick (Mary Hitchcock)",
          "Baclini, Mrs. Solomon (Latifa Qurban)",
          "Swift, Mrs. Frederick Joel (Margaret Welles Barron)",
          "Bystrom, Mrs. (Karolina)",
          "Duran y More, Miss. Asuncion",
          "Beckwith, Mrs. Richard Leonard (Sallie Monypeny)",
          "Abelson, Mrs. Samuel (Hannah Wizosky)",
          "Najib, Miss. Adele Kiamie \"Jane\"",
          "Potter, Mrs. Thomas Jr (Lily Alexenia Wilson)",
          "Shelley, Mrs. William (Imanita Parrish Hall)",
          "Graham, Miss. Margaret Edith"
         ],
         "legendgroup": "True, False",
         "marker": {
          "color": "#EF553B",
          "size": {
           "bdata": "AQMBAwIDAQIDAwMDAQMDAgMDAQICAgECAwMDAgMBAgMDAgMCAQMDAQMCAQMDAwIDAQEDAwIBAwEBAwIDAgMBAQECAQECAwEDAwEBAQMCAQEBAQEDAgEBAgIBAgMBAwEBAQICAwEDAwEDAwEBAwEDAQICAQMCAQICAgIDAgECAgICAwECAwICAwMBAQECAQICAQECAgMCAQEBAgMBAQMBAwIBAgEBAQICAgEDAgIBAgEDAwIDAQIDAQMDAQIBAQECAgIDAQECAgIBAQECAwEDAQMBAwIBAQMBAwEBAQEDAQMBAgIBAgMBAgE=",
           "dtype": "i1"
          },
          "sizemode": "area",
          "sizeref": 0.0075,
          "symbol": "diamond"
         },
         "mode": "markers",
         "name": "True, False",
         "orientation": "v",
         "showlegend": true,
         "type": "scatter",
         "x": {
          "bdata": "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",
          "dtype": "f8"
         },
         "xaxis": "x",
         "y": {
          "bdata": "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",
          "dtype": "f8"
         },
         "yaxis": "y"
        }
       ],
       "layout": {
        "legend": {
         "itemsizing": "constant",
         "title": {
          "text": "Survived, is_male"
         },
         "tracegroupgap": 0
        },
        "template": {
         "data": {
          "bar": [
           {
            "error_x": {
             "color": "#2a3f5f"
            },
            "error_y": {
             "color": "#2a3f5f"
            },
            "marker": {
             "line": {
              "color": "#E5ECF6",
              "width": 0.5
             },
             "pattern": {
              "fillmode": "overlay",
              "size": 10,
              "solidity": 0.2
             }
            },
            "type": "bar"
           }
          ],
          "barpolar": [
           {
            "marker": {
             "line": {
              "color": "#E5ECF6",
              "width": 0.5
             },
             "pattern": {
              "fillmode": "overlay",
              "size": 10,
              "solidity": 0.2
             }
            },
            "type": "barpolar"
           }
          ],
          "carpet": [
           {
            "aaxis": {
             "endlinecolor": "#2a3f5f",
             "gridcolor": "white",
             "linecolor": "white",
             "minorgridcolor": "white",
             "startlinecolor": "#2a3f5f"
            },
            "baxis": {
             "endlinecolor": "#2a3f5f",
             "gridcolor": "white",
             "linecolor": "white",
             "minorgridcolor": "white",
             "startlinecolor": "#2a3f5f"
            },
            "type": "carpet"
           }
          ],
          "choropleth": [
           {
            "colorbar": {
             "outlinewidth": 0,
             "ticks": ""
            },
            "type": "choropleth"
           }
          ],
          "contour": [
           {
            "colorbar": {
             "outlinewidth": 0,
             "ticks": ""
            },
            "colorscale": [
             [
              0,
              "#0d0887"
             ],
             [
              0.1111111111111111,
              "#46039f"
             ],
             [
              0.2222222222222222,
              "#7201a8"
             ],
             [
              0.3333333333333333,
              "#9c179e"
             ],
             [
              0.4444444444444444,
              "#bd3786"
             ],
             [
              0.5555555555555556,
              "#d8576b"
             ],
             [
              0.6666666666666666,
              "#ed7953"
             ],
             [
              0.7777777777777778,
              "#fb9f3a"
             ],
             [
              0.8888888888888888,
              "#fdca26"
             ],
             [
              1,
              "#f0f921"
             ]
            ],
            "type": "contour"
           }
          ],
          "contourcarpet": [
           {
            "colorbar": {
             "outlinewidth": 0,
             "ticks": ""
            },
            "type": "contourcarpet"
           }
          ],
          "heatmap": [
           {
            "colorbar": {
             "outlinewidth": 0,
             "ticks": ""
            },
            "colorscale": [
             [
              0,
              "#0d0887"
             ],
             [
              0.1111111111111111,
              "#46039f"
             ],
             [
              0.2222222222222222,
              "#7201a8"
             ],
             [
              0.3333333333333333,
              "#9c179e"
             ],
             [
              0.4444444444444444,
              "#bd3786"
             ],
             [
              0.5555555555555556,
              "#d8576b"
             ],
             [
              0.6666666666666666,
              "#ed7953"
             ],
             [
              0.7777777777777778,
              "#fb9f3a"
             ],
             [
              0.8888888888888888,
              "#fdca26"
             ],
             [
              1,
              "#f0f921"
             ]
            ],
            "type": "heatmap"
           }
          ],
          "histogram": [
           {
            "marker": {
             "pattern": {
              "fillmode": "overlay",
              "size": 10,
              "solidity": 0.2
             }
            },
            "type": "histogram"
           }
          ],
          "histogram2d": [
           {
            "colorbar": {
             "outlinewidth": 0,
             "ticks": ""
            },
            "colorscale": [
             [
              0,
              "#0d0887"
             ],
             [
              0.1111111111111111,
              "#46039f"
             ],
             [
              0.2222222222222222,
              "#7201a8"
             ],
             [
              0.3333333333333333,
              "#9c179e"
             ],
             [
              0.4444444444444444,
              "#bd3786"
             ],
             [
              0.5555555555555556,
              "#d8576b"
             ],
             [
              0.6666666666666666,
              "#ed7953"
             ],
             [
              0.7777777777777778,
              "#fb9f3a"
             ],
             [
              0.8888888888888888,
              "#fdca26"
             ],
             [
              1,
              "#f0f921"
             ]
            ],
            "type": "histogram2d"
           }
          ],
          "histogram2dcontour": [
           {
            "colorbar": {
             "outlinewidth": 0,
             "ticks": ""
            },
            "colorscale": [
             [
              0,
              "#0d0887"
             ],
             [
              0.1111111111111111,
              "#46039f"
             ],
             [
              0.2222222222222222,
              "#7201a8"
             ],
             [
              0.3333333333333333,
              "#9c179e"
             ],
             [
              0.4444444444444444,
              "#bd3786"
             ],
             [
              0.5555555555555556,
              "#d8576b"
             ],
             [
              0.6666666666666666,
              "#ed7953"
             ],
             [
              0.7777777777777778,
              "#fb9f3a"
             ],
             [
              0.8888888888888888,
              "#fdca26"
             ],
             [
              1,
              "#f0f921"
             ]
            ],
            "type": "histogram2dcontour"
           }
          ],
          "mesh3d": [
           {
            "colorbar": {
             "outlinewidth": 0,
             "ticks": ""
            },
            "type": "mesh3d"
           }
          ],
          "parcoords": [
           {
            "line": {
             "colorbar": {
              "outlinewidth": 0,
              "ticks": ""
             }
            },
            "type": "parcoords"
           }
          ],
          "pie": [
           {
            "automargin": true,
            "type": "pie"
           }
          ],
          "scatter": [
           {
            "fillpattern": {
             "fillmode": "overlay",
             "size": 10,
             "solidity": 0.2
            },
            "type": "scatter"
           }
          ],
          "scatter3d": [
           {
            "line": {
             "colorbar": {
              "outlinewidth": 0,
              "ticks": ""
             }
            },
            "marker": {
             "colorbar": {
              "outlinewidth": 0,
              "ticks": ""
             }
            },
            "type": "scatter3d"
           }
          ],
          "scattercarpet": [
           {
            "marker": {
             "colorbar": {
              "outlinewidth": 0,
              "ticks": ""
             }
            },
            "type": "scattercarpet"
           }
          ],
          "scattergeo": [
           {
            "marker": {
             "colorbar": {
              "outlinewidth": 0,
              "ticks": ""
             }
            },
            "type": "scattergeo"
           }
          ],
          "scattergl": [
           {
            "marker": {
             "colorbar": {
              "outlinewidth": 0,
              "ticks": ""
             }
            },
            "type": "scattergl"
           }
          ],
          "scattermap": [
           {
            "marker": {
             "colorbar": {
              "outlinewidth": 0,
              "ticks": ""
             }
            },
            "type": "scattermap"
           }
          ],
          "scattermapbox": [
           {
            "marker": {
             "colorbar": {
              "outlinewidth": 0,
              "ticks": ""
             }
            },
            "type": "scattermapbox"
           }
          ],
          "scatterpolar": [
           {
            "marker": {
             "colorbar": {
              "outlinewidth": 0,
              "ticks": ""
             }
            },
            "type": "scatterpolar"
           }
          ],
          "scatterpolargl": [
           {
            "marker": {
             "colorbar": {
              "outlinewidth": 0,
              "ticks": ""
             }
            },
            "type": "scatterpolargl"
           }
          ],
          "scatterternary": [
           {
            "marker": {
             "colorbar": {
              "outlinewidth": 0,
              "ticks": ""
             }
            },
            "type": "scatterternary"
           }
          ],
          "surface": [
           {
            "colorbar": {
             "outlinewidth": 0,
             "ticks": ""
            },
            "colorscale": [
             [
              0,
              "#0d0887"
             ],
             [
              0.1111111111111111,
              "#46039f"
             ],
             [
              0.2222222222222222,
              "#7201a8"
             ],
             [
              0.3333333333333333,
              "#9c179e"
             ],
             [
              0.4444444444444444,
              "#bd3786"
             ],
             [
              0.5555555555555556,
              "#d8576b"
             ],
             [
              0.6666666666666666,
              "#ed7953"
             ],
             [
              0.7777777777777778,
              "#fb9f3a"
             ],
             [
              0.8888888888888888,
              "#fdca26"
             ],
             [
              1,
              "#f0f921"
             ]
            ],
            "type": "surface"
           }
          ],
          "table": [
           {
            "cells": {
             "fill": {
              "color": "#EBF0F8"
             },
             "line": {
              "color": "white"
             }
            },
            "header": {
             "fill": {
              "color": "#C8D4E3"
             },
             "line": {
              "color": "white"
             }
            },
            "type": "table"
           }
          ]
         },
         "layout": {
          "annotationdefaults": {
           "arrowcolor": "#2a3f5f",
           "arrowhead": 0,
           "arrowwidth": 1
          },
          "autotypenumbers": "strict",
          "coloraxis": {
           "colorbar": {
            "outlinewidth": 0,
            "ticks": ""
           }
          },
          "colorscale": {
           "diverging": [
            [
             0,
             "#8e0152"
            ],
            [
             0.1,
             "#c51b7d"
            ],
            [
             0.2,
             "#de77ae"
            ],
            [
             0.3,
             "#f1b6da"
            ],
            [
             0.4,
             "#fde0ef"
            ],
            [
             0.5,
             "#f7f7f7"
            ],
            [
             0.6,
             "#e6f5d0"
            ],
            [
             0.7,
             "#b8e186"
            ],
            [
             0.8,
             "#7fbc41"
            ],
            [
             0.9,
             "#4d9221"
            ],
            [
             1,
             "#276419"
            ]
           ],
           "sequential": [
            [
             0,
             "#0d0887"
            ],
            [
             0.1111111111111111,
             "#46039f"
            ],
            [
             0.2222222222222222,
             "#7201a8"
            ],
            [
             0.3333333333333333,
             "#9c179e"
            ],
            [
             0.4444444444444444,
             "#bd3786"
            ],
            [
             0.5555555555555556,
             "#d8576b"
            ],
            [
             0.6666666666666666,
             "#ed7953"
            ],
            [
             0.7777777777777778,
             "#fb9f3a"
            ],
            [
             0.8888888888888888,
             "#fdca26"
            ],
            [
             1,
             "#f0f921"
            ]
           ],
           "sequentialminus": [
            [
             0,
             "#0d0887"
            ],
            [
             0.1111111111111111,
             "#46039f"
            ],
            [
             0.2222222222222222,
             "#7201a8"
            ],
            [
             0.3333333333333333,
             "#9c179e"
            ],
            [
             0.4444444444444444,
             "#bd3786"
            ],
            [
             0.5555555555555556,
             "#d8576b"
            ],
            [
             0.6666666666666666,
             "#ed7953"
            ],
            [
             0.7777777777777778,
             "#fb9f3a"
            ],
            [
             0.8888888888888888,
             "#fdca26"
            ],
            [
             1,
             "#f0f921"
            ]
           ]
          },
          "colorway": [
           "#636efa",
           "#EF553B",
           "#00cc96",
           "#ab63fa",
           "#FFA15A",
           "#19d3f3",
           "#FF6692",
           "#B6E880",
           "#FF97FF",
           "#FECB52"
          ],
          "font": {
           "color": "#2a3f5f"
          },
          "geo": {
           "bgcolor": "white",
           "lakecolor": "white",
           "landcolor": "#E5ECF6",
           "showlakes": true,
           "showland": true,
           "subunitcolor": "white"
          },
          "hoverlabel": {
           "align": "left"
          },
          "hovermode": "closest",
          "mapbox": {
           "style": "light"
          },
          "paper_bgcolor": "white",
          "plot_bgcolor": "#E5ECF6",
          "polar": {
           "angularaxis": {
            "gridcolor": "white",
            "linecolor": "white",
            "ticks": ""
           },
           "bgcolor": "#E5ECF6",
           "radialaxis": {
            "gridcolor": "white",
            "linecolor": "white",
            "ticks": ""
           }
          },
          "scene": {
           "xaxis": {
            "backgroundcolor": "#E5ECF6",
            "gridcolor": "white",
            "gridwidth": 2,
            "linecolor": "white",
            "showbackground": true,
            "ticks": "",
            "zerolinecolor": "white"
           },
           "yaxis": {
            "backgroundcolor": "#E5ECF6",
            "gridcolor": "white",
            "gridwidth": 2,
            "linecolor": "white",
            "showbackground": true,
            "ticks": "",
            "zerolinecolor": "white"
           },
           "zaxis": {
            "backgroundcolor": "#E5ECF6",
            "gridcolor": "white",
            "gridwidth": 2,
            "linecolor": "white",
            "showbackground": true,
            "ticks": "",
            "zerolinecolor": "white"
           }
          },
          "shapedefaults": {
           "line": {
            "color": "#2a3f5f"
           }
          },
          "ternary": {
           "aaxis": {
            "gridcolor": "white",
            "linecolor": "white",
            "ticks": ""
           },
           "baxis": {
            "gridcolor": "white",
            "linecolor": "white",
            "ticks": ""
           },
           "bgcolor": "#E5ECF6",
           "caxis": {
            "gridcolor": "white",
            "linecolor": "white",
            "ticks": ""
           }
          },
          "title": {
           "x": 0.05
          },
          "xaxis": {
           "automargin": true,
           "gridcolor": "white",
           "linecolor": "white",
           "ticks": "",
           "title": {
            "standoff": 15
           },
           "zerolinecolor": "white",
           "zerolinewidth": 2
          },
          "yaxis": {
           "automargin": true,
           "gridcolor": "white",
           "linecolor": "white",
           "ticks": "",
           "title": {
            "standoff": 15
           },
           "zerolinecolor": "white",
           "zerolinewidth": 2
          }
         }
        },
        "title": {
         "text": "Age vs Fare"
        },
        "xaxis": {
         "anchor": "y",
         "domain": [
          0,
          1
         ],
         "title": {
          "text": "Age"
         }
        },
        "yaxis": {
         "anchor": "x",
         "domain": [
          0,
          1
         ],
         "title": {
          "text": "Fare"
         }
        }
       }
      }
     },
     "metadata": {},
     "output_type": "display_data"
    }
   ],
   "source": [
    "import plotly.express as px\n",
    "\n",
    "fig = px.scatter(\n",
    "    data_frame=data,\n",
    "    x=\"Age\",\n",
    "    y=\"Fare\",\n",
    "    color=\"Survived\",\n",
    "    size=\"Pclass\",\n",
    "    hover_name='Name',\n",
    "    symbol=\"is_male\",\n",
    "    title=\"Age vs Fare\",\n",
    ")\n",
    "\n",
    "fig.show()"
   ]
  },
  {
   "cell_type": "code",
   "execution_count": 14,
   "id": "a4c5d350",
   "metadata": {},
   "outputs": [
    {
     "data": {
      "application/vnd.plotly.v1+json": {
       "config": {
        "plotlyServerURL": "https://plot.ly"
       },
       "data": [
        {
         "hovertemplate": "<b>%{hovertext}</b><br><br>Survived=False<br>Sex=male<br>Age=%{x}<br>Fare=%{marker.size}<br>Pclass=%{z}<extra></extra>",
         "hovertext": [
          "Braund, Mr. Owen Harris",
          "Allen, Mr. William Henry",
          "Moran, Mr. James",
          "McCarthy, Mr. Timothy J",
          "Palsson, Master. Gosta Leonard",
          "Saundercock, Mr. William Henry",
          "Andersson, Mr. Anders Johan",
          "Rice, Master. Eugene",
          "Fynney, Mr. Joseph J",
          "Emir, Mr. Farred Chehab",
          "Fortune, Mr. Charles Alexander",
          "Todoroff, Mr. Lalio",
          "Uruchurtu, Don. Manuel E",
          "Wheadon, Mr. Edward H",
          "Meyer, Mr. Edgar Joseph",
          "Holverson, Mr. Alexander Oskar",
          "Cann, Mr. Ernest Charles",
          "Kraeff, Mr. Theodor",
          "Rogers, Mr. William John",
          "Lennon, Mr. Denis",
          "Samaan, Mr. Youssef",
          "Panula, Master. Juha Niilo",
          "Nosworthy, Mr. Richard Cater",
          "Ostby, Mr. Engelhart Cornelius",
          "Novel, Mr. Mansouer",
          "Goodwin, Master. William Frederick",
          "Sirayanian, Mr. Orsen",
          "Harris, Mr. Henry Birkhardt",
          "Skoog, Master. Harald",
          "Stewart, Mr. Albert A",
          "Crease, Mr. Ernest James",
          "Kink, Mr. Vincenz",
          "Jenkin, Mr. Stephen Curnow",
          "Hood, Mr. Ambrose Jr",
          "Chronopoulos, Mr. Apostolos",
          "Moen, Mr. Sigurd Hansen",
          "Staneff, Mr. Ivan",
          "Moutal, Mr. Rahamin Haim",
          "Waelens, Mr. Achille",
          "Carrau, Mr. Francisco M",
          "Ford, Mr. William Neal",
          "Slocovski, Mr. Selman Francis",
          "Celotti, Mr. Francesco",
          "Christmann, Mr. Emil",
          "Andreasson, Mr. Paul Edvin",
          "Chaffee, Mr. Herbert Fuller",
          "Dean, Mr. Bertram Frank",
          "Coxon, Mr. Daniel",
          "Shorney, Mr. Charles Joseph",
          "Goldschmidt, Mr. George B",
          "Kantor, Mr. Sinai",
          "Petroff, Mr. Pastcho (\"Pentcho\")",
          "White, Mr. Richard Frasar",
          "Johansson, Mr. Gustaf Joel",
          "Gustafsson, Mr. Anders Vilhelm",
          "Mionoff, Mr. Stoytcho",
          "Rekic, Mr. Tido",
          "Porter, Mr. Walter Chamberlain",
          "Barton, Mr. David John",
          "Pekoniemi, Mr. Edvard",
          "Connors, Mr. Patrick",
          "Turpin, Mr. William John Robert",
          "Baxter, Mr. Quigg Edmond",
          "Hickman, Mr. Stanley George",
          "Moore, Mr. Leonard Charles",
          "Nasser, Mr. Nicholas",
          "White, Mr. Percival Wayland",
          "McMahon, Mr. Martin",
          "Ekstrom, Mr. Johan",
          "Drazenoic, Mr. Jozef",
          "Coelho, Mr. Domingos Fernandeo",
          "Sobey, Mr. Samuel James Hayden",
          "Richard, Mr. Emile",
          "Futrelle, Mr. Jacques Heath",
          "Osen, Mr. Olaf Elon",
          "Giglio, Mr. Victor",
          "Burke, Mr. Jeremiah",
          "Andrew, Mr. Edgardo Samuel",
          "Nicholls, Mr. Joseph Charles",
          "Navratil, Mr. Michel (\"Louis M Hoffman\")",
          "Byles, Rev. Thomas Roussel Davids",
          "Bateman, Rev. Robert James",
          "Meo, Mr. Alfonzo",
          "van Billiard, Mr. Austin Blyler",
          "Olsen, Mr. Ole Martin",
          "Williams, Mr. Charles Duane",
          "Corn, Mr. Harry",
          "Smiljanic, Mr. Mile",
          "Sage, Master. Thomas Henry",
          "Cribb, Mr. John Hatfield",
          "Bengtsson, Mr. John Viktor",
          "Calic, Mr. Jovo",
          "Panula, Master. Eino Viljami",
          "Baumann, Mr. John D",
          "Ling, Mr. Lee",
          "Van der hoef, Mr. Wyckoff",
          "Rice, Master. Arthur",
          "Sivola, Mr. Antti Wilhelm",
          "Smith, Mr. James Clinch",
          "Klasen, Mr. Klas Albin",
          "Lefebre, Master. Henry Forbes",
          "Hale, Mr. Reginald",
          "Leonard, Mr. Lionel",
          "Pernot, Mr. Rene",
          "Asplund, Master. Clarence Gustaf Hugo",
          "Rood, Mr. Hugh Roscoe",
          "Bourke, Mr. John",
          "Turcin, Mr. Stjepan",
          "Carbines, Mr. William",
          "Mernagh, Mr. Robert",
          "Olsen, Mr. Karl Siegwart Andreas",
          "Vande Walle, Mr. Nestor Cyriel",
          "Sage, Mr. Frederick",
          "Johanson, Mr. Jakob Alfred",
          "Youseff, Mr. Gerious",
          "Backstrom, Mr. Karl Alfred",
          "Ali, Mr. Ahmed",
          "Perkin, Mr. John Henry",
          "Givard, Mr. Hans Kristensen",
          "Kiernan, Mr. Philip",
          "Jacobsohn, Mr. Sidney Samuel",
          "Harris, Mr. Walter",
          "Bracken, Mr. James H",
          "Green, Mr. George Henry",
          "Nenkoff, Mr. Christo",
          "Berglund, Mr. Karl Ivar Sven",
          "Lovell, Mr. John Hall (\"Henry\")",
          "Fahlstrom, Mr. Arne Jonas",
          "Larsson, Mr. Bengt Edvin",
          "Sjostedt, Mr. Ernst Adolf",
          "Leyson, Mr. Robert William Norman",
          "Hold, Mr. Stephen",
          "Pengelly, Mr. Frederick William",
          "Hunt, Mr. George Henry",
          "Coleridge, Mr. Reginald Charles",
          "Maenpaa, Mr. Matti Alexanteri",
          "Attalah, Mr. Sleiman",
          "Minahan, Dr. William Edward",
          "Carter, Rev. Ernest Courtenay",
          "Reed, Mr. James George",
          "Stead, Mr. William Thomas",
          "Lobb, Mr. William Arthur",
          "Smith, Mr. Thomas",
          "Taussig, Mr. Emil",
          "Harrison, Mr. William",
          "Reeves, Mr. David",
          "Panula, Mr. Ernesti Arvid",
          "Cairns, Mr. Alexander",
          "Natsch, Mr. Charles H",
          "Parkes, Mr. Francis \"Frank\"",
          "Rice, Master. Eric",
          "Duane, Mr. Frank",
          "Olsson, Mr. Nils Johan Goransson",
          "de Pelsmaeker, Mr. Alfons",
          "Smith, Mr. Richard William",
          "Stankovic, Mr. Ivan",
          "Naidenoff, Mr. Penko",
          "Levy, Mr. Rene Jacques",
          "Mineff, Mr. Ivan",
          "Lewy, Mr. Ervin G",
          "Hanna, Mr. Mansour",
          "Johnson, Mr. William Cahoone Jr",
          "Williams, Mr. Howard Hugh \"Harry\"",
          "Abelson, Mr. Samuel",
          "Hendekovic, Mr. Ignjac",
          "Hart, Mr. Benjamin",
          "Moraweck, Dr. Ernest",
          "Dennis, Mr. Samuel",
          "Danoff, Mr. Yoto",
          "Sage, Mr. George John Jr",
          "Nysveen, Mr. Johan Hansen",
          "Partner, Mr. Austen",
          "Graham, Mr. George Edward",
          "Vander Planke, Mr. Leo Edmondus",
          "Denkoff, Mr. Mitto",
          "Pears, Mr. Thomas Clinton",
          "Blackwell, Mr. Stephen Weart",
          "Collander, Mr. Erik Gustaf",
          "Sedgwick, Mr. Charles Frederick Waddington",
          "Fox, Mr. Stanley Hubert",
          "Dimic, Mr. Jovan",
          "Odahl, Mr. Nils Martin",
          "Williams-Lambert, Mr. Fletcher Fellows",
          "Elias, Mr. Tannous",
          "Arnold-Franchi, Mr. Josef",
          "Yousif, Mr. Wazli",
          "Vanden Steen, Mr. Leo Peter",
          "Skoog, Mr. Wilhelm",
          "del Carlo, Mr. Sebastiano",
          "Asim, Mr. Adola",
          "O'Brien, Mr. Thomas",
          "Adahl, Mr. Mauritz Nils Martin",
          "Wiklund, Mr. Jakob Alfred",
          "Beavan, Mr. William Thomas",
          "Ringhini, Mr. Sante",
          "Widener, Mr. Harry Elkins",
          "Betros, Mr. Tannous",
          "Gustafsson, Mr. Karl Gideon",
          "Tikkanen, Mr. Juho",
          "Plotcharsky, Mr. Vasil",
          "Davies, Mr. Charles Henry",
          "Goodwin, Master. Sidney Leonard",
          "Sadlier, Mr. Matthew",
          "Gustafsson, Mr. Johan Birger",
          "Johansson, Mr. Erik",
          "McKane, Mr. Peter David",
          "Pain, Dr. Alfred",
          "Adams, Mr. John",
          "Hakkarainen, Mr. Pekka Pietari",
          "Gale, Mr. Shadrach",
          "Widegren, Mr. Carl/Charles Peter",
          "Birkeland, Mr. Hans Martin Monsen",
          "Sdycoff, Mr. Todor",
          "Hart, Mr. Henry",
          "Cunningham, Mr. Alfred Fleming",
          "Matthews, Mr. William John",
          "Gheorgheff, Mr. Stanio",
          "Charters, Mr. David",
          "Zimmerman, Mr. Leo",
          "Rosblom, Mr. Viktor Richard",
          "Wiseman, Mr. Phillippe",
          "Flynn, Mr. James",
          "Kallio, Mr. Nikolai Erland",
          "Silvey, Mr. William Baird",
          "Fortune, Mr. Mark",
          "Kvillner, Mr. Johan Henrik Johannesson",
          "Hampe, Mr. Leon",
          "Petterson, Mr. Johan Emil",
          "West, Mr. Edwy Arthur",
          "Hagland, Mr. Ingvald Olai Olsen",
          "Foreman, Mr. Benjamin Laventall",
          "Peduzzi, Mr. Joseph",
          "Millet, Mr. Francis Davis",
          "O'Connor, Mr. Maurice",
          "Morley, Mr. William",
          "Gee, Mr. Arthur H",
          "Milling, Mr. Jacob Christian",
          "Maisner, Mr. Simon",
          "Goncalves, Mr. Manuel Estanslas",
          "Campbell, Mr. William",
          "Smart, Mr. John Montgomery",
          "Scanlan, Mr. James",
          "Keefe, Mr. Arthur",
          "Cacic, Mr. Luka",
          "Clifford, Mr. George Quincy",
          "Renouf, Mr. Peter Henry",
          "Braund, Mr. Lewis Richard",
          "Karlsson, Mr. Nils August",
          "Goodwin, Master. Harold Victor",
          "Frost, Mr. Anthony Wood \"Archie\"",
          "Rouse, Mr. Richard Henry",
          "Kent, Mr. Edward Austin",
          "Somerton, Mr. Francis William",
          "Hagland, Mr. Konrad Mathias Reiersen",
          "Windelov, Mr. Einar",
          "Molson, Mr. Harry Markland",
          "Artagaveytia, Mr. Ramon",
          "Stanley, Mr. Edward Roland",
          "Yousseff, Mr. Gerious",
          "Shellard, Mr. Frederick William",
          "Svensson, Mr. Olof",
          "Calic, Mr. Petar",
          "Penasco y Castellana, Mr. Victor de Satode",
          "Olsen, Mr. Henry Margido",
          "Webber, Mr. James",
          "Coleff, Mr. Satio",
          "Walker, Mr. William Anderson",
          "Ryan, Mr. Patrick",
          "Pavlovic, Mr. Stefo",
          "Vovk, Mr. Janko",
          "Lahoud, Mr. Sarkis",
          "Kassem, Mr. Fared",
          "Farrell, Mr. James",
          "Farthing, Mr. John",
          "Salonen, Mr. Johan Werner",
          "Hocking, Mr. Richard George",
          "Toufik, Mr. Nakli",
          "Elias, Mr. Joseph Jr",
          "Butt, Major. Archibald Willingham",
          "Risien, Mr. Samuel Beard",
          "Douglas, Mr. Walter Donald",
          "Nicholson, Mr. Arthur Ernest",
          "Goldsmith, Mr. Frank John",
          "Sharp, Mr. Percival James R",
          "O'Brien, Mr. Timothy",
          "Wright, Mr. George",
          "Robbins, Mr. Victor",
          "Morrow, Mr. Thomas Rowan",
          "Sivic, Mr. Husein",
          "Norman, Mr. Robert Douglas",
          "Simmons, Mr. John",
          "Davies, Mr. Alfred J",
          "Stoytcheff, Mr. Ilia",
          "Doharr, Mr. Tannous",
          "Rush, Mr. Alfred George John",
          "Patchett, Mr. George",
          "Downton, Mr. William James",
          "Ross, Mr. John Hugo",
          "Paulner, Mr. Uscher",
          "Jarvis, Mr. John Denzil",
          "Gilinski, Mr. Eliezer",
          "Murdlin, Mr. Joseph",
          "Rintamaki, Mr. Matti",
          "Elsbury, Mr. William James",
          "Chapman, Mr. John Henry",
          "Van Impe, Mr. Jean Baptiste",
          "Johnson, Mr. Alfred",
          "Boulos, Mr. Hanna",
          "Slabenoff, Mr. Petco",
          "Harrington, Mr. Charles H",
          "Torber, Mr. Ernst William",
          "Lindell, Mr. Edvard Bengtsson",
          "Karaic, Mr. Milan",
          "Jardin, Mr. Jose Neto",
          "Horgan, Mr. John",
          "Brocklebank, Mr. William Alfred",
          "Danbom, Mr. Ernst Gilbert",
          "Gavey, Mr. Lawrence",
          "Yasbeck, Mr. Antoni",
          "Hansen, Mr. Henry Damsgaard",
          "Bowen, Mr. David John \"Dai\"",
          "Sutton, Mr. Frederick",
          "Kirkland, Rev. Charles Leonard",
          "Bostandyeff, Mr. Guentcho",
          "O'Connell, Mr. Patrick D",
          "Lundahl, Mr. Johan Svensson",
          "Parr, Mr. William Henry Marsh",
          "Leinonen, Mr. Antti Gustaf",
          "Collyer, Mr. Harvey",
          "Thorneycroft, Mr. Percival",
          "Jensen, Mr. Hans Peder",
          "Cor, Mr. Liudevit",
          "Willey, Mr. Edward",
          "Mitkoff, Mr. Mito",
          "Kalvik, Mr. Johannes Halvorsen",
          "Hickman, Mr. Leonard Mark",
          "Radeff, Mr. Alexander",
          "Eitemiller, Mr. George Floyd",
          "Newell, Mr. Arthur Webster",
          "Badt, Mr. Mohamed",
          "Colley, Mr. Edward Pomeroy",
          "Coleff, Mr. Peju",
          "Hickman, Mr. Lewis",
          "Butler, Mr. Reginald Fenton",
          "Rommetvedt, Mr. Knud Paust",
          "Cook, Mr. Jacob",
          "Davidson, Mr. Thornton",
          "Mitchell, Mr. Henry Michael",
          "Watson, Mr. Ennis Hastings",
          "Edvardsson, Mr. Gustaf Hjalmar",
          "Sawyer, Mr. Frederick Charles",
          "Olsvigen, Mr. Thor Anderson",
          "Goodwin, Mr. Charles Edward",
          "Brown, Mr. Thomas William Solomon",
          "Laroche, Mr. Joseph Philippe Lemercier",
          "Panula, Mr. Jaako Arnold",
          "Dakic, Mr. Branko",
          "Fischer, Mr. Eberhard Thelander",
          "Saad, Mr. Khalil",
          "Weir, Col. John",
          "Chapman, Mr. Charles Henry",
          "Kelly, Mr. James",
          "Thayer, Mr. John Borland",
          "Humblen, Mr. Adolf Mathias Nicolai Olsen",
          "Gallagher, Mr. Martin",
          "Hansen, Mr. Henrik Juul",
          "Morley, Mr. Henry Samuel (\"Mr Henry Marshall\")",
          "Klaber, Mr. Herman",
          "Larsson, Mr. August Viktor",
          "Greenberg, Mr. Samuel",
          "Soholt, Mr. Peter Andreas Lauritz Andersen",
          "McEvoy, Mr. Michael",
          "Johnson, Mr. Malkolm Joackim",
          "Jensen, Mr. Svend Lauritz",
          "Gillespie, Mr. William Henry",
          "Hodges, Mr. Henry Price",
          "Oreskovic, Mr. Luka",
          "Bryhl, Mr. Kurt Arnold Gottfrid",
          "Hassan, Mr. Houssein G N",
          "Knight, Mr. Robert J",
          "Berriman, Mr. William John",
          "Troupiansky, Mr. Moses Aaron",
          "Williams, Mr. Leslie",
          "Ivanoff, Mr. Kanio",
          "Nankoff, Mr. Minko",
          "Cavendish, Mr. Tyrell William",
          "McNamee, Mr. Neal",
          "Crosby, Capt. Edward Gifford",
          "Abbott, Mr. Rossmore Edward",
          "Marvin, Mr. Daniel Warner",
          "Connaghton, Mr. Michael",
          "Vande Velde, Mr. Johannes Joseph",
          "Jonkoff, Mr. Lalio",
          "Carlsson, Mr. August Sigfrid",
          "Bailey, Mr. Percy Andrew",
          "Theobald, Mr. Thomas Leonard",
          "Garfirth, Mr. John",
          "Nirva, Mr. Iisakki Antino Aijo",
          "Eklund, Mr. Hans Linus",
          "Brewe, Dr. Arthur Jackson",
          "Moran, Mr. Daniel J",
          "Gronnestad, Mr. Daniel Danielsen",
          "Lievens, Mr. Rene Aime",
          "Jensen, Mr. Niels Peder",
          "Elias, Mr. Dibo",
          "Myhrman, Mr. Pehr Fabian Oliver Malkolm",
          "Tobin, Mr. Roger",
          "Kilgannon, Mr. Thomas J",
          "Long, Mr. Milton Clyde",
          "Johnston, Mr. Andrew G",
          "Ali, Mr. William",
          "Harmer, Mr. Abraham (David Lishin)",
          "Rice, Master. George Hugh",
          "Guggenheim, Mr. Benjamin",
          "Keane, Mr. Andrew \"Andy\"",
          "Gaskell, Mr. Alfred",
          "Hoyt, Mr. William Fisher",
          "Dantcheff, Mr. Ristiu",
          "Otter, Mr. Richard",
          "Ibrahim Shawah, Mr. Yousseff",
          "Ponesell, Mr. Martin",
          "Johansson, Mr. Karl Johan",
          "Andrews, Mr. Thomas Jr",
          "Meyer, Mr. August",
          "Alexander, Mr. William",
          "Lester, Mr. James",
          "Slemen, Mr. Richard James",
          "Tomlin, Mr. Ernest Portage",
          "Fry, Mr. Richard",
          "Mallet, Mr. Albert",
          "Holm, Mr. John Fredrik Alexander",
          "Skoog, Master. Karl Thorsten",
          "Reuchlin, Jonkheer. John George",
          "Panula, Master. Urho Abraham",
          "Flynn, Mr. John",
          "Lam, Mr. Len",
          "Saad, Mr. Amin",
          "Augustsson, Mr. Albert",
          "Allum, Mr. Owen George",
          "Pasic, Mr. Jakob",
          "Sirota, Mr. Maurice",
          "Alhomaki, Mr. Ilmari Rudolf",
          "Mudd, Mr. Thomas Charles",
          "Lemberopolous, Mr. Peter L",
          "Culumovic, Mr. Jeso",
          "Abbing, Mr. Anthony",
          "Sage, Mr. Douglas Bullen",
          "Markoff, Mr. Marin",
          "Harper, Rev. John",
          "Andersson, Master. Sigvard Harald Elias",
          "Svensson, Mr. Johan",
          "Razi, Mr. Raihed",
          "Hansen, Mr. Claus Peter",
          "Giles, Mr. Frederick Edward",
          "Gill, Mr. John William",
          "Roebling, Mr. Washington Augustus II",
          "van Melkebeke, Mr. Philemon",
          "Balkic, Mr. Cerin",
          "Carlsson, Mr. Frans Olof",
          "Vander Cruyssen, Mr. Victor",
          "Gustafsson, Mr. Alfred Ossian",
          "Petroff, Mr. Nedelio",
          "Laleff, Mr. Kristo",
          "Markun, Mr. Johann",
          "Banfield, Mr. Frederick James",
          "Sutehall, Mr. Henry Jr",
          "Montvila, Rev. Juozas",
          "Dooley, Mr. Patrick"
         ],
         "legendgroup": "False, male",
         "marker": {
          "color": "#636efa",
          "line": {
           "width": 0
          },
          "opacity": 0.7,
          "size": {
           "bdata": "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",
           "dtype": "f8"
          },
          "sizemode": "area",
          "sizeref": 1.280823,
          "symbol": "circle"
         },
         "mode": "markers",
         "name": "False, male",
         "scene": "scene",
         "showlegend": true,
         "type": "scatter3d",
         "x": {
          "bdata": "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",
          "dtype": "f8"
         },
         "y": {
          "bdata": "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",
          "dtype": "f8"
         },
         "z": {
          "bdata": "AwMDAQMDAwMCAwEDAQIBAQMDAwMDAwMBAwMDAQMBAwMCAgMDAwMDAQMDAwMDAQMDAwECAwEDAwMDAQMDAwIBAgMCAQMDAwMCAgEDAQMCAgICAgMDAwEDAwMDAwMDAQMBAwMBAwMCAwIDAQMDAgMDAwMDAwMDAwIDAgICAwMDAwIDAgICAgICAwMBAgMBAwMBAQIDAQECAwMDAwEDAwIDAQMDAwIDAgIDAwMDAQEDAwEBAgICAwMBAwMDAwMCAwMDAwMBAQMDAwMCAwMDAwICAwMCAwMDAwICAwMDAwMDAwEBAgMDAgMBAwEDAwECAwMCAQMDAwECAwMDAgMBAwMDAQEDAwMDAwEDAwMBAwMDAwMDAQMCAwMBAwEBAwIDAQEDAwIDAwMDAwMCAQMCAwMDAwIDAwMDAQMDAwMDAwMCAwMDAQIDAwMBAwIDAwMDAwMCAwIBAwEDAgIDAwECAgMDAwMCAgMDAwMBAgMBAwMDAgEDAgMDAwMCAgMCAwICAgMDAwEDAQMBAwMDAwIDAwMDAQMDAwMDAwMDAQMDAwMBAwIBAwIDAgMBAgMDAgMBAgMDAQMDAwMDAwMDAwIDAwMDAwIDAwMDAgIBAwMBAwMDAwMCAwID",
          "dtype": "i1"
         }
        },
        {
         "hovertemplate": "<b>%{hovertext}</b><br><br>Survived=False<br>Sex=female<br>Age=%{x}<br>Fare=%{marker.size}<br>Pclass=%{z}<extra></extra>",
         "hovertext": [
          "Vestrom, Miss. Hulda Amanda Adolfina",
          "Vander Planke, Mrs. Julius (Emelia Maria Vandemoortele)",
          "Palsson, Miss. Torborg Danira",
          "Vander Planke, Miss. Augusta Maria",
          "Ahlin, Mrs. Johan (Johanna Persdotter Larsson)",
          "Turpin, Mrs. William John Robert (Dorothy Ann Wonnacott)",
          "Arnold-Franchi, Mrs. Josef (Josefine Franchi)",
          "Goodwin, Miss. Lillian Amy",
          "Petranec, Miss. Matilda",
          "Zabour, Miss. Hileni",
          "Jussila, Miss. Katriina",
          "Attalah, Miss. Malake",
          "Andersson, Miss. Ellis Anna Maria",
          "Robins, Mrs. Alexander A (Grace Charity Laury)",
          "Boulos, Mrs. Joseph (Sultana)",
          "Ford, Miss. Robina Maggie \"Ruby\"",
          "Skoog, Mrs. William (Anna Bernhardina Karlsson)",
          "Isham, Miss. Ann Elizabeth",
          "Sage, Miss. Constance Gladys",
          "Yrois, Miss. Henriette (\"Mrs Harbeck\")",
          "Strom, Miss. Telma Matilda",
          "Lefebre, Miss. Mathilde",
          "Harknett, Miss. Alice Phoebe",
          "Zabour, Miss. Thamine",
          "Lindahl, Miss. Agda Thorilda Viktoria",
          "Strom, Mrs. Wilhelm (Elna Matilda Persson)",
          "Rosblom, Mrs. Viktor (Helena Wilhelmina)",
          "Henry, Miss. Delia",
          "Lindblom, Miss. Augusta Charlotta",
          "Haas, Miss. Aloisia",
          "Allison, Miss. Helen Loraine",
          "Lahtinen, Mrs. William (Anna Sylfven)",
          "Funk, Miss. Annie Clemmer",
          "Barbara, Mrs. (Catherine David)",
          "Palsson, Miss. Stina Viola",
          "Olsson, Miss. Elina",
          "Jussila, Miss. Mari Aina",
          "Oreskovic, Miss. Marija",
          "Lefebre, Miss. Ida",
          "Meek, Mrs. Thomas (Annie Louise Rowley)",
          "Van Impe, Miss. Catharina",
          "Danbom, Mrs. Ernst Gilbert (Anna Sigrid Maria Brogren)",
          "Ford, Miss. Doolina Margaret \"Daisy\"",
          "Strandberg, Miss. Ida Sofia",
          "Lefebre, Miss. Jeannie",
          "Allison, Mrs. Hudson J C (Bessie Waldo Daniels)",
          "Canavan, Miss. Mary",
          "O'Sullivan, Miss. Bridget Mary",
          "Laitinen, Miss. Kristina Sofia",
          "Cacic, Miss. Marija",
          "Andersson, Miss. Ingeborg Constanzia",
          "Andersson, Miss. Sigrid Elisabeth",
          "Meanwell, Miss. (Marion Ogden)",
          "Palsson, Mrs. Nils (Alma Cornelia Berglund)",
          "Caram, Mrs. Joseph (Maria Elias)",
          "Bourke, Miss. Mary",
          "Andersson, Mrs. Anders Johan (Alfrida Konstantia Brogren)",
          "Lobb, Mrs. William Arthur (Cordelia K Stanlick)",
          "Skoog, Miss. Mabel",
          "Panula, Mrs. Juha (Maria Emilia Ojala)",
          "Skoog, Miss. Margit Elizabeth",
          "Hegarty, Miss. Hanora \"Nora\"",
          "Bourke, Mrs. John (Catherine)",
          "Goodwin, Mrs. Frederick (Augusta Tyler)",
          "Peters, Miss. Katie",
          "Barbara, Miss. Saiide",
          "Ilmakangas, Miss. Pieta Sofia",
          "Ford, Mrs. Edward (Margaret Ann Watson)",
          "Mangan, Miss. Mary",
          "Mack, Mrs. (Mary)",
          "Sage, Miss. Stella Anna",
          "Van Impe, Mrs. Jean Baptiste (Rosalie Paula Govaert)",
          "Pettersson, Miss. Ellen Natalia",
          "Andersson, Miss. Ebba Iris Alfrida",
          "Heininen, Miss. Wendla Maria",
          "Boulos, Miss. Nourelain",
          "Carter, Mrs. Ernest Courtenay (Lilian Hughes)",
          "Sage, Miss. Dorothy Edith \"Dolly\"",
          "Dahlberg, Miss. Gerda Ulrika",
          "Rice, Mrs. William (Margaret Norton)",
          "Johnston, Miss. Catherine Helen \"Carrie\""
         ],
         "legendgroup": "False, female",
         "marker": {
          "color": "#636efa",
          "line": {
           "width": 0
          },
          "opacity": 0.7,
          "size": {
           "bdata": "CfmgZ7NqH0AAAAAAAAAyQDMzMzMzEzVAAAAAAAAAMkAzMzMzM/MiQAAAAAAAADVAzczMzMzMMUAzMzMzM3NHQPcGX5hMlR9AuK8D54zoLEBmZmZmZqYjQHuDL0ym6ixAZmZmZmZGP0AAAAAAAAAtQK62Yn/ZfS5AAAAAAAAwQUBmZmZmZuY7QGZmZmZmtjxAMzMzMzNjUUAAAAAAAAAqQM3MzMzM7CRADwu1pnl3OUAzMzMzMzMeQLivA+eM6CxAmpmZmZkZH0DNzMzMzOwkQGZmZmZmNjRAAAAAAAAAH0AAAAAAAAAfQDMzMzMzsyFAmpmZmZnxYkAAAAAAAAA6QAAAAAAAACpAuK8D54zoLEAzMzMzMxM1QAn5oGezah9AZmZmZmamI0AzMzMzM1MhQA8LtaZ5dzlAmpmZmZkZIEBmZmZmZiY4QM3MzMzMzCxAAAAAAAAwQUDNzMzMzKwjQA8LtaZ5dzlAmpmZmZnxYkAAAAAAAAAfQKOSOgFNhB5AzczMzMwsI0AzMzMzM1MhQGZmZmZmRj9AZmZmZmZGP0CamZmZmRkgQDMzMzMzEzVAe4MvTKbqLEAAAAAAAAAfQGZmZmZmRj9AmpmZmZkZMEBmZmZmZuY7QAAAAAAA2ENAZmZmZmbmO0AAAAAAAAAbQAAAAAAAAC9AMzMzMzNzR0BmZmZmZkYgQLivA+eM6CxAMzMzMzOzH0AAAAAAADBBQAAAAAAAAB9AAAAAAAAAJUAzMzMzM2NRQGZmZmZmJjhAmpmZmZkZH0BmZmZmZkY/QDMzMzMzsx9ArrZif9l9LkAAAAAAAAA6QDMzMzMzY1FAuK8D54wIJUAAAAAAACA9QDMzMzMzczdA",
           "dtype": "f8"
          },
          "sizemode": "area",
          "sizeref": 1.280823,
          "symbol": "diamond"
         },
         "mode": "markers",
         "name": "False, female",
         "scene": "scene",
         "showlegend": true,
         "type": "scatter3d",
         "x": {
          "bdata": "AAAAAAAALEAAAAAAAAA/QAAAAAAAACBAAAAAAAAAMkAAAAAAAABEQAAAAAAAADtAAAAAAAAAMkAAAAAAAAAwQAAAAAAAADxAAAAAAAAALUAAAAAAAAA0QAAAAAAAADFAAAAAAAAAAEAAAAAAAIBHQAAAAAAAAPh/AAAAAAAAIkAAAAAAAIBGQAAAAAAAAElAAAAAAAAA+H8AAAAAAAA4QAAAAAAAAABAAAAAAAAA+H8AAAAAAAD4fwAAAAAAAPh/AAAAAAAAOUAAAAAAAAA9QAAAAAAAgERAAAAAAAAA+H8AAAAAAIBGQAAAAAAAADhAAAAAAAAAAEAAAAAAAAA6QAAAAAAAAENAAAAAAACARkAAAAAAAAAIQAAAAAAAAD9AAAAAAAAANUAAAAAAAAA0QAAAAAAAAPh/AAAAAAAA+H8AAAAAAAAkQAAAAAAAADxAAAAAAAAANUAAAAAAAAA2QAAAAAAAAPh/AAAAAAAAOUAAAAAAAAA1QAAAAAAAAPh/AAAAAACAQkAAAAAAAAA+QAAAAAAAACJAAAAAAAAAJkAAAAAAAAD4fwAAAAAAAD1AAAAAAAAA+H8AAAAAAAD4fwAAAAAAgENAAAAAAAAAOkAAAAAAAAAiQAAAAAAAgERAAAAAAAAAAEAAAAAAAAAyQAAAAAAAAEBAAAAAAACARUAAAAAAAAD4fwAAAAAAADJAAAAAAAAAOUAAAAAAAABIQAAAAAAAgD5AAAAAAACATEAAAAAAAAD4fwAAAAAAAD5AAAAAAAAAMkAAAAAAAAAYQAAAAAAAADdAAAAAAAAAIkAAAAAAAABGQAAAAAAAAPh/AAAAAAAANkAAAAAAAIBDQAAAAAAAAPh/",
          "dtype": "f8"
         },
         "y": {
          "bdata": "CfmgZ7NqH0AAAAAAAAAyQDMzMzMzEzVAAAAAAAAAMkAzMzMzM/MiQAAAAAAAADVAzczMzMzMMUAzMzMzM3NHQPcGX5hMlR9AuK8D54zoLEBmZmZmZqYjQHuDL0ym6ixAZmZmZmZGP0AAAAAAAAAtQK62Yn/ZfS5AAAAAAAAwQUBmZmZmZuY7QGZmZmZmtjxAMzMzMzNjUUAAAAAAAAAqQM3MzMzM7CRADwu1pnl3OUAzMzMzMzMeQLivA+eM6CxAmpmZmZkZH0DNzMzMzOwkQGZmZmZmNjRAAAAAAAAAH0AAAAAAAAAfQDMzMzMzsyFAmpmZmZnxYkAAAAAAAAA6QAAAAAAAACpAuK8D54zoLEAzMzMzMxM1QAn5oGezah9AZmZmZmamI0AzMzMzM1MhQA8LtaZ5dzlAmpmZmZkZIEBmZmZmZiY4QM3MzMzMzCxAAAAAAAAwQUDNzMzMzKwjQA8LtaZ5dzlAmpmZmZnxYkAAAAAAAAAfQKOSOgFNhB5AzczMzMwsI0AzMzMzM1MhQGZmZmZmRj9AZmZmZmZGP0CamZmZmRkgQDMzMzMzEzVAe4MvTKbqLEAAAAAAAAAfQGZmZmZmRj9AmpmZmZkZMEBmZmZmZuY7QAAAAAAA2ENAZmZmZmbmO0AAAAAAAAAbQAAAAAAAAC9AMzMzMzNzR0BmZmZmZkYgQLivA+eM6CxAMzMzMzOzH0AAAAAAADBBQAAAAAAAAB9AAAAAAAAAJUAzMzMzM2NRQGZmZmZmJjhAmpmZmZkZH0BmZmZmZkY/QDMzMzMzsx9ArrZif9l9LkAAAAAAAAA6QDMzMzMzY1FAuK8D54wIJUAAAAAAACA9QDMzMzMzczdA",
          "dtype": "f8"
         },
         "z": {
          "bdata": "AwMDAwMCAwMDAwMDAwMDAwMBAwIDAwMDAwMDAwMDAQICAwMDAwMDAwMDAwMDAQMDAwMDAwMDAwMDAwMDAwMDAwMDAwMDAgMDAwMDAwIDAwMD",
          "dtype": "i1"
         }
        },
        {
         "hovertemplate": "<b>%{hovertext}</b><br><br>Survived=True<br>Sex=male<br>Age=%{x}<br>Fare=%{marker.size}<br>Pclass=%{z}<extra></extra>",
         "hovertext": [
          "Williams, Mr. Charles Eugene",
          "Beesley, Mr. Lawrence",
          "Sloper, Mr. William Thompson",
          "Mamee, Mr. Hanna",
          "Woolner, Mr. Hugh",
          "Moubarek, Master. Gerios",
          "Bing, Mr. Lee",
          "Caldwell, Master. Alden Gates",
          "Sheerlinck, Mr. Jan Baptist",
          "Greenfield, Mr. William Bertram",
          "Moss, Mr. Albert Johan",
          "Nicola-Yarred, Master. Elias",
          "Madsen, Mr. Fridtjof Arne",
          "Andersson, Mr. August Edvard (\"Wennerstrom\")",
          "Goldsmith, Master. Frank John William \"Frankie\"",
          "Becker, Master. Richard F",
          "Romaine, Mr. Charles Hallace (\"Mr C Rolmane\")",
          "Navratil, Master. Michel M",
          "Cohen, Mr. Gurshon \"Gus\"",
          "Albimona, Mr. Nassef Cassem",
          "Blank, Mr. Henry",
          "Sunderland, Mr. Victor Francis",
          "Hoyt, Mr. Frederick Maxfield",
          "Mellors, Mr. William John",
          "Beckwith, Mr. Richard Leonard",
          "Asplund, Master. Edvin Rojj Felix",
          "Persson, Mr. Ernst Ulrik",
          "Tornquist, Mr. William Henry",
          "Dorking, Mr. Edward Arthur",
          "de Mulder, Mr. Theodore",
          "Hosono, Mr. Masabumi",
          "Saalfeld, Mr. Adolphe",
          "McCoy, Mr. Bernard",
          "Allison, Master. Hudson Trevor",
          "Dahl, Mr. Karl Edwart",
          "Navratil, Master. Edmond Roger",
          "Coutts, Master. William Loch \"William\"",
          "Harder, Mr. George Achilles",
          "Carter, Mr. William Ernest",
          "Jansson, Mr. Carl Olof",
          "Niskanen, Mr. Juha",
          "Richards, Master. William Rowe",
          "Sundman, Mr. Johan Julian",
          "Pickard, Mr. Berk (Berk Trembisky)",
          "Bjornstrom-Steffansson, Mr. Mauritz Hakan",
          "Johannesen-Bratthammer, Mr. Bernt",
          "Dodge, Master. Washington",
          "Seward, Mr. Frederic Kimber",
          "Peuchen, Major. Arthur Godfrey",
          "Goldenberg, Mr. Samuel L",
          "Jalsevac, Mr. Ivan",
          "Anderson, Mr. Harry",
          "Bishop, Mr. Dickinson H",
          "Coutts, Master. Eden Leslie \"Neville\"",
          "Bradley, Mr. George (\"George Arthur Brayton\")",
          "Lang, Mr. Fang",
          "Daly, Mr. Eugene Patrick",
          "McGough, Mr. James Robert",
          "Beane, Mr. Edward",
          "Padro y Manent, Mr. Julian",
          "Davies, Master. John Morgan Jr",
          "Thayer, Mr. John Borland Jr",
          "Leeni, Mr. Fahim (\"Philip Zenni\")",
          "Jonsson, Mr. Carl",
          "Harris, Mr. George",
          "Flynn, Mr. John Irwin (\"Irving\")",
          "Jussila, Mr. Eiriik",
          "Frolicher-Stehli, Mr. Maxmillian",
          "Duff Gordon, Sir. Cosmo Edmund (\"Mr Morgan\")",
          "Homer, Mr. Harry (\"Mr E Haven\")",
          "Daniel, Mr. Robert Williams",
          "Kimball, Mr. Edwin Nelson Jr",
          "Nakid, Mr. Sahid",
          "Barkworth, Mr. Algernon Henry Wilson",
          "Stahelin-Maeglin, Dr. Max",
          "Foo, Mr. Choong",
          "Harper, Mr. Henry Sleeper",
          "Simonius-Blumer, Col. Oberst Alfons",
          "Frauenthal, Dr. Henry William",
          "Lindqvist, Mr. Eino William",
          "Wilhelms, Mr. Charles",
          "Cardeza, Mr. Thomas Drake Martinez",
          "Hassab, Mr. Hammad",
          "Dick, Mr. Albert Adrian",
          "Lam, Mr. Ali",
          "Silverthorne, Mr. Spencer Victor",
          "Calderhead, Mr. Edward Pennington",
          "Moubarek, Master. Halim Gonios (\"William George\")",
          "Taylor, Mr. Elmer Zebley",
          "Chambers, Mr. Norman Campbell",
          "Lesurer, Mr. Gustave J",
          "Hawksford, Mr. Walter James",
          "Stranden, Mr. Juho",
          "Moor, Master. Meier",
          "Hamalainen, Master. Viljo",
          "Barah, Mr. Hanna Assi",
          "Dean, Master. Bertram Vere",
          "Carter, Master. William Thornton II",
          "Thomas, Master. Assad Alexander",
          "Hedman, Mr. Oskar Arvid",
          "Lulic, Mr. Nikola",
          "Mallet, Master. Andre",
          "McCormack, Mr. Thomas Joseph",
          "Richards, Master. George Sibley",
          "Chip, Mr. Chang",
          "Marechal, Mr. Pierre",
          "Daly, Mr. Peter Denis ",
          "Johnson, Master. Harold Theodor",
          "Behr, Mr. Karl Howell"
         ],
         "legendgroup": "True, male",
         "marker": {
          "color": "#EF553B",
          "line": {
           "width": 0
          },
          "opacity": 0.7,
          "size": {
           "bdata": "AAAAAAAAKkAAAAAAAAAqQAAAAAAAwEFACfmgZ7PqHEAAAAAAAMBBQK62Yn/ZfS5ArK3YX3Y/TEAAAAAAAAA9QAAAAAAAACNAEhQ/xtytT0CamZmZmRkfQOviNhrAeyZAcF8HzhmRHECQoPgx5i4fQGZmZmZmhjRAAAAAAACAQ0DNzMzMzIw6QAAAAAAAADpAmpmZmZkZIECamZmZmckyQAAAAAAAAD9AmpmZmZkZIEAAAAAAAIBWQAAAAAAAACVAu7iNBvBGSkAzMzMzM2M/QJqZmZmZGR9AAAAAAAAAAACamZmZmRkgQAAAAAAAACNAAAAAAAAAKkAAAAAAAIA+QAAAAAAAQDdAmpmZmZnxYkCamZmZmRkgQAAAAAAAADpAzczMzMzML0BUUiegibhLQAAAAAAAAF5AkKD4MeYuH0AzMzMzM7MfQAAAAAAAwDJAMzMzMzOzH0CamZmZmRkgQM3MzMzMjDpAmpmZmZk5IEAJih9j7nZUQM3MzMzMjDpAAAAAAACAPkCRD3o2q0ZWQPcGX5hMlR9AzczMzMyMOkD3deCcEcVWQM3MzMzMzC9AzczMzMyMOkCsrdhfdj9MQAAAAAAAAB9AmpmZmZlJOkAAAAAAAAA6QJqZmZmZuStAAAAAAABgQkCjI7n8h7hbQGZmZmZm5hxACfmgZ7NqH0AAAAAAAAAlQDMzMzMzYzpAMzMzMzOzH0DNzMzMzMxTQLu4jQbwdkxAzczMzMyMOkAAAAAAAIA+QLu4jQbwRkpA6+I2GsB7L0AAAAAAAAA+QAAAAAAAgD5ArK3YX3Y/TECRD3o2qy5TQAAAAAAAwEFAzczMzMy0YEAzMzMzM7MfQAAAAAAAACpAvw6cM6ICgECRD3o2qy5TQAAAAAAAgExArK3YX3Y/TECamZmZmUk6QJqZmZmZSTpArrZif9l9LkAAAAAAAABKQM3MzMzMjEpAvw6cM6ICgEAAAAAAAAA+QDMzMzMzsx9AMzMzMzPzKEAAAAAAAAAtQAn5oGez6hxAMzMzMzOTNEAAAAAAAABeQLivA+eMCCFAZmZmZmbmG0AzMzMzM1MhQFRSJ6CJgEJAAAAAAAAAH0AAAAAAAMAyQKyt2F92P0xAMzMzMzOzPUDNzMzMzIw6QBUdyeU/RCZAAAAAAAAAPkA=",
           "dtype": "f8"
          },
          "sizemode": "area",
          "sizeref": 1.280823,
          "symbol": "circle"
         },
         "mode": "markers",
         "name": "True, male",
         "scene": "scene",
         "showlegend": true,
         "type": "scatter3d",
         "x": {
          "bdata": "AAAAAAAA+H8AAAAAAABBQAAAAAAAADxAAAAAAAAA+H8AAAAAAAD4fwAAAAAAAPh/AAAAAAAAQECPwvUoXI/qPwAAAAAAAD1AAAAAAAAAN0AAAAAAAAD4fwAAAAAAAChAAAAAAAAAOEAAAAAAAAA7QAAAAAAAACJAAAAAAAAA8D8AAAAAAIBGQAAAAAAAAAhAAAAAAAAAMkAAAAAAAAA6QAAAAAAAAERAAAAAAAAAMEAAAAAAAABDQAAAAAAAADNAAAAAAACAQkAAAAAAAAAIQAAAAAAAADlAAAAAAAAAOUAAAAAAAAAzQAAAAAAAAD5AAAAAAAAARUAAAAAAAAD4fwAAAAAAAPh/cT0K16Nw7T8AAAAAAIBGQAAAAAAAAABAAAAAAAAACEAAAAAAAAA5QAAAAAAAAEJAAAAAAAAANUAAAAAAAIBDQAAAAAAAAAhAAAAAAAAARkAAAAAAAABAQAAAAAAAADxAAAAAAAAA+H8AAAAAAAAQQAAAAAAAAEFAAAAAAAAASkAAAAAAAIBIQAAAAAAAAD1AAAAAAAAASEAAAAAAAAA5QAAAAAAAACJAAAAAAAAA+H8AAAAAAAA6QAAAAAAAAD1AAAAAAAAAQkAAAAAAAABAQAAAAAAAAPh/AAAAAAAAIEAAAAAAAAAxQAAAAAAAADZAAAAAAAAAQEAAAAAAAABPQAAAAAAAAEJAAAAAAAAAQEAAAAAAAABOQAAAAAAAgEhAAAAAAACAQUAAAAAAAAA7QAAAAAAAAEVAAAAAAAAANEAAAAAAAABUQAAAAAAAAEBAAAAAAAAA+H8AAAAAAABIQAAAAAAAAExAAAAAAAAASUAAAAAAAAA0QAAAAAAAAD9AAAAAAAAAQkAAAAAAAAA7QAAAAAAAAD9AAAAAAAAA+H8AAAAAAIBBQAAAAAAAAEVAAAAAAAAA+H8AAAAAAABIQAAAAAAAADtAAAAAAACAQUAAAAAAAAD4fwAAAAAAAD9AAAAAAAAAGEBxPQrXo3DlPwAAAAAAADRAAAAAAAAA8D8AAAAAAAAmQOF6FK5H4do/AAAAAAAAO0AAAAAAAAA7QAAAAAAAAPA/AAAAAAAA+H+PwvUoXI/qPwAAAAAAAEBAAAAAAAAA+H8AAAAAAIBJQAAAAAAAABBAAAAAAAAAOkA=",
          "dtype": "f8"
         },
         "y": {
          "bdata": "AAAAAAAAKkAAAAAAAAAqQAAAAAAAwEFACfmgZ7PqHEAAAAAAAMBBQK62Yn/ZfS5ArK3YX3Y/TEAAAAAAAAA9QAAAAAAAACNAEhQ/xtytT0CamZmZmRkfQOviNhrAeyZAcF8HzhmRHECQoPgx5i4fQGZmZmZmhjRAAAAAAACAQ0DNzMzMzIw6QAAAAAAAADpAmpmZmZkZIECamZmZmckyQAAAAAAAAD9AmpmZmZkZIEAAAAAAAIBWQAAAAAAAACVAu7iNBvBGSkAzMzMzM2M/QJqZmZmZGR9AAAAAAAAAAACamZmZmRkgQAAAAAAAACNAAAAAAAAAKkAAAAAAAIA+QAAAAAAAQDdAmpmZmZnxYkCamZmZmRkgQAAAAAAAADpAzczMzMzML0BUUiegibhLQAAAAAAAAF5AkKD4MeYuH0AzMzMzM7MfQAAAAAAAwDJAMzMzMzOzH0CamZmZmRkgQM3MzMzMjDpAmpmZmZk5IEAJih9j7nZUQM3MzMzMjDpAAAAAAACAPkCRD3o2q0ZWQPcGX5hMlR9AzczMzMyMOkD3deCcEcVWQM3MzMzMzC9AzczMzMyMOkCsrdhfdj9MQAAAAAAAAB9AmpmZmZlJOkAAAAAAAAA6QJqZmZmZuStAAAAAAABgQkCjI7n8h7hbQGZmZmZm5hxACfmgZ7NqH0AAAAAAAAAlQDMzMzMzYzpAMzMzMzOzH0DNzMzMzMxTQLu4jQbwdkxAzczMzMyMOkAAAAAAAIA+QLu4jQbwRkpA6+I2GsB7L0AAAAAAAAA+QAAAAAAAgD5ArK3YX3Y/TECRD3o2qy5TQAAAAAAAwEFAzczMzMy0YEAzMzMzM7MfQAAAAAAAACpAvw6cM6ICgECRD3o2qy5TQAAAAAAAgExArK3YX3Y/TECamZmZmUk6QJqZmZmZSTpArrZif9l9LkAAAAAAAABKQM3MzMzMjEpAvw6cM6ICgEAAAAAAAAA+QDMzMzMzsx9AMzMzMzPzKEAAAAAAAAAtQAn5oGez6hxAMzMzMzOTNEAAAAAAAABeQLivA+eMCCFAZmZmZmbmG0AzMzMzM1MhQFRSJ6CJgEJAAAAAAAAAH0AAAAAAAMAyQKyt2F92P0xAMzMzMzOzPUDNzMzMzIw6QBUdyeU/RCZAAAAAAAAAPkA=",
          "dtype": "f8"
         },
         "z": {
          "bdata": "AgIBAwEDAwIDAQMDAwMDAgECAwMBAwECAQMDAwMDAgEDAQMCAwEBAwMCAwMBAwEBAQEDAQEDAQMDAQICAgEDAwIBAwEBAQEBAwEBAwEBAQMCAQEBAwEBAwEBAQEDAwIDAwEDAwMCAwIDAQEDAQ==",
          "dtype": "i1"
         }
        },
        {
         "hovertemplate": "<b>%{hovertext}</b><br><br>Survived=True<br>Sex=female<br>Age=%{x}<br>Fare=%{marker.size}<br>Pclass=%{z}<extra></extra>",
         "hovertext": [
          "Cumings, Mrs. John Bradley (Florence Briggs Thayer)",
          "Heikkinen, Miss. Laina",
          "Futrelle, Mrs. Jacques Heath (Lily May Peel)",
          "Johnson, Mrs. Oscar W (Elisabeth Vilhelmina Berg)",
          "Nasser, Mrs. Nicholas (Adele Achem)",
          "Sandstrom, Miss. Marguerite Rut",
          "Bonnell, Miss. Elizabeth",
          "Hewlett, Mrs. (Mary D Kingcome) ",
          "Masselmani, Mrs. Fatima",
          "McGowan, Miss. Anna \"Annie\"",
          "Asplund, Mrs. Carl Oscar (Selma Augusta Emilia Johansson)",
          "O'Dwyer, Miss. Ellen \"Nellie\"",
          "Spencer, Mrs. William Augustus (Marie Eugenie)",
          "Glynn, Miss. Mary Agatha",
          "Nicola-Yarred, Miss. Jamila",
          "Laroche, Miss. Simonne Marie Anne Andree",
          "Devaney, Miss. Margaret Delia",
          "O'Driscoll, Miss. Bridget",
          "Harper, Mrs. Henry Sleeper (Myna Haxtun)",
          "Faunthorpe, Mrs. Lizzie (Elizabeth Anne Wilkinson)",
          "Rugg, Miss. Emily",
          "West, Miss. Constance Mirium",
          "Icard, Miss. Amelie",
          "Nye, Mrs. (Elizabeth Ramell)",
          "Andersson, Miss. Erna Alexandra",
          "Dowdell, Miss. Elizabeth",
          "McDermott, Miss. Brigdet Delia",
          "Ilett, Miss. Bertha",
          "Backstrom, Mrs. Karl Alfred (Maria Mathilda Gustafsson)",
          "Fortune, Miss. Mabel Helen",
          "Doling, Mrs. John T (Ada Julia Bone)",
          "Salkjelsvik, Miss. Anna Kristine",
          "Moran, Miss. Bertha",
          "Webber, Miss. Susan",
          "Peter, Miss. Anna",
          "Weisz, Mrs. Leopold (Mathilde Francoise Pede)",
          "Newsom, Miss. Helen Monypeny",
          "Nysten, Miss. Anna Sofia",
          "Hakkarainen, Mrs. Pekka Pietari (Elin Matilda Dolck)",
          "Pears, Mrs. Thomas (Edith Wearne)",
          "Gilnagh, Miss. Katherine \"Katie\"",
          "Watt, Mrs. James (Elizabeth \"Bessie\" Inglis Milne)",
          "Chibnall, Mrs. (Edith Martha Bowerman)",
          "Johnson, Miss. Eleanor Ileen",
          "Kink-Heilmann, Miss. Luise Gretchen",
          "O'Brien, Mrs. Thomas (Johanna \"Hannah\" Godfrey)",
          "Pinsky, Mrs. (Rosa)",
          "Andersen-Jensen, Miss. Carla Christine Nielsine",
          "Brown, Mrs. James Joseph (Margaret Tobin)",
          "Lurette, Miss. Elise",
          "Madigan, Miss. Margaret \"Maggie\"",
          "Carr, Miss. Helen \"Ellen\"",
          "Cameron, Miss. Clear Annie",
          "Newell, Miss. Madeleine",
          "Honkanen, Miss. Eliina",
          "Bazzani, Miss. Albina",
          "Harris, Mrs. Henry Birkhardt (Irene Wallach)",
          "Asplund, Miss. Lillian Gertrud",
          "Collyer, Miss. Marjorie \"Lottie\"",
          "Murphy, Miss. Katherine \"Kate\"",
          "Hamalainen, Mrs. William (Anna)",
          "Touma, Mrs. Darwis (Hanne Youssef Razi)",
          "Thorne, Mrs. Gertrude Maybelle",
          "Cherry, Miss. Gladys",
          "Ward, Miss. Anna",
          "Parrish, Mrs. (Lutie Davis)",
          "Graham, Mrs. William Thompson (Edith Junkins)",
          "Bissette, Miss. Amelia",
          "Mellinger, Mrs. (Elizabeth Anne Maidment)",
          "Healy, Miss. Hanora \"Nora\"",
          "Andrews, Miss. Kornelia Theodosia",
          "Abbott, Mrs. Stanton (Rosa Hunt)",
          "Connolly, Miss. Kate",
          "Barber, Miss. Ellen \"Nellie\"",
          "Bishop, Mrs. Dickinson H (Helen Walton)",
          "Baxter, Mrs. James (Helene DeLaudeniere Chaput)",
          "Kelly, Miss. Anna Katherine \"Annie Kate\"",
          "Keane, Miss. Nora A",
          "Fleming, Miss. Margaret",
          "Penasco y Castellana, Mrs. Victor de Satode (Maria Josefa Perez de Soto y Vallejo)",
          "Francatelli, Miss. Laura Mabel",
          "Hays, Miss. Margaret Bechstein",
          "Ryerson, Miss. Emily Borie",
          "Nilsson, Miss. Helmina Josefina",
          "Kantor, Mrs. Sinai (Miriam Sternin)",
          "Wick, Miss. Mary Natalie",
          "Spedden, Mrs. Frederic Oakley (Margaretta Corning Stone)",
          "Slayter, Miss. Hilda Mary",
          "Caldwell, Mrs. Albert Francis (Sylvia Mae Harbaugh)",
          "Young, Miss. Marie Grice",
          "Ball, Mrs. (Ada E Hall)",
          "Goldsmith, Mrs. Frank John (Emily Alice Brown)",
          "Hippach, Miss. Jean Gertrude",
          "McCoy, Miss. Agnes",
          "Frauenthal, Mrs. Henry William (Clara Heinsheimer)",
          "Burns, Miss. Elizabeth Margaret",
          "Fortune, Miss. Alice Elizabeth",
          "Brown, Miss. Amelia \"Mildred\"",
          "Smith, Miss. Marion Elsie",
          "Davison, Mrs. Thomas Henry (Mary E Finck)",
          "Bowerman, Miss. Elsie Edith",
          "McGovern, Miss. Mary",
          "Mockler, Miss. Helen Mary \"Ellie\"",
          "Warren, Mrs. Frank Manley (Anna Sophia Atkinson)",
          "Moussa, Mrs. (Mantoura Boulos)",
          "Jermyn, Miss. Annie",
          "Aubart, Mme. Leontine Pauline",
          "Meyer, Mrs. Edgar Joseph (Leila Saks)",
          "Landergren, Miss. Aurora Adelia",
          "Bidois, Miss. Rosalie",
          "Nakid, Miss. Maria (\"Mary\")",
          "Holverson, Mrs. Alexander Oskar (Mary Aline Towner)",
          "Buss, Miss. Kate",
          "Lehmann, Miss. Bertha",
          "Newell, Miss. Marjorie",
          "Sandstrom, Mrs. Hjalmar (Agnes Charlotta Bengtsson)",
          "Trout, Mrs. William H (Jessie L)",
          "Minahan, Miss. Daisy E",
          "Drew, Mrs. James Vivian (Lulu Thorne Christian)",
          "Silven, Miss. Lyyli Karoliina",
          "Clarke, Mrs. Charles V (Ada Maria Winfield)",
          "Phillips, Miss. Kate Florence (\"Mrs Kate Louise Phillips Marshall\")",
          "Thorneycroft, Mrs. Percival (Florence Kate White)",
          "Louch, Mrs. Charles Alexander (Alice Adelaide Slow)",
          "Carter, Miss. Lucile Polk",
          "Richards, Mrs. Sidney (Emily Hocking)",
          "Hart, Mrs. Benjamin (Esther Ada Bloomfield)",
          "Reynaldo, Ms. Encarnacion",
          "Mellinger, Miss. Madeleine Violet",
          "Baclini, Miss. Marie Catherine",
          "Kenyon, Mrs. Frederick R (Marion)",
          "Toomey, Miss. Ellen",
          "Baclini, Miss. Helene Barbara",
          "West, Mrs. Edwy Arthur (Ada Mary Worth)",
          "Jerwan, Mrs. Amin S (Marie Marthe Thuillard)",
          "Hirvonen, Miss. Hildur E",
          "Turkula, Mrs. (Hedwig)",
          "Hoyt, Mrs. Frederick Maxfield (Jane Anne Forby)",
          "Eustis, Miss. Elizabeth Mussey",
          "Maioni, Miss. Roberta",
          "Quick, Mrs. Frederick Charles (Jane Richards)",
          "Rothschild, Mrs. Martin (Elizabeth L. Barrett)",
          "Lemore, Mrs. (Amelia Milley)",
          "Angle, Mrs. William A (Florence \"Mary\" Agnes Hughes)",
          "Perreault, Miss. Anne",
          "Hippach, Mrs. Louis Albert (Ida Sophia Fischer)",
          "Ridsdale, Miss. Lucy",
          "Quick, Miss. Phyllis May",
          "Peter, Mrs. Catherine (Catherine Rizk)",
          "Hart, Miss. Eva Miriam",
          "LeRoy, Miss. Bertha",
          "Frolicher, Miss. Hedwig Margaritha",
          "Crosby, Miss. Harriet R",
          "Beane, Mrs. Edward (Ethel Clarke)",
          "Ohman, Miss. Velin",
          "Duff Gordon, Lady. (Lucille Christiana Sutherland) (\"Mrs Morgan\")",
          "Taussig, Mrs. Emil (Tillie Mandelbaum)",
          "de Messemaeker, Mrs. Guillaume Joseph (Emma)",
          "Appleton, Mrs. Edward Dale (Charlotte Lamson)",
          "Kelly, Miss. Mary",
          "Garside, Miss. Ethel",
          "Silvey, Mrs. William Baird (Alice Munger)",
          "Christy, Miss. Julie Rachel",
          "Thayer, Mrs. John Borland (Marian Longstreth Morris)",
          "Taussig, Miss. Ruth",
          "Stephenson, Mrs. Walter Bertram (Martha Eustis)",
          "Leitch, Miss. Jessie Wills",
          "Jacobsohn, Mrs. Sidney Samuel (Amy Frances Christy)",
          "Laroche, Mrs. Joseph (Juliette Marie Louise Lafargue)",
          "Shutes, Miss. Elizabeth W",
          "Murphy, Miss. Margaret Jane",
          "Herman, Miss. Alice",
          "Becker, Miss. Marion Louise",
          "Longley, Miss. Gretchen Fiske",
          "Davis, Miss. Mary",
          "Sagesser, Mlle. Emma",
          "Baclini, Miss. Eugenie",
          "Stanley, Miss. Amy Zillah Elsie",
          "Doling, Miss. Elsie",
          "O'Leary, Miss. Hanora \"Norah\"",
          "Taylor, Mrs. Elmer Zebley (Juliet Cummins Wright)",
          "Brown, Mrs. Thomas William Solomon (Elizabeth Catherine Ford)",
          "Turja, Miss. Anna Sofia",
          "Madill, Miss. Georgette Alexandra",
          "Karun, Miss. Manca",
          "Mullens, Miss. Katherine \"Katie\"",
          "Astor, Mrs. John Jacob (Madeleine Talmadge Force)",
          "Kelly, Mrs. Florence \"Fannie\"",
          "Cleaver, Miss. Alice",
          "Mayne, Mlle. Berthe Antonine (\"Mrs de Villiers\")",
          "Endres, Miss. Caroline Louise",
          "Troutt, Miss. Edwina Celia \"Winnie\"",
          "Harper, Miss. Annie Jessie \"Nina\"",
          "Renouf, Mrs. Peter Henry (Lillian Jefferys)",
          "Mannion, Miss. Margareth",
          "Allen, Miss. Elisabeth Walton",
          "Ryerson, Miss. Susan Parker \"Suzette\"",
          "Sinkkonen, Miss. Anna",
          "Wells, Miss. Joan",
          "Herman, Mrs. Samuel (Jane Laver)",
          "Rothes, the Countess. of (Lucy Noel Martha Dyer-Edwards)",
          "Carter, Mrs. William Ernest (Lucile Polk)",
          "Hogeboom, Mrs. John C (Anna Andrews)",
          "Hocking, Mrs. Elizabeth (Eliza Needs)",
          "Emanuel, Miss. Virginia Ethel",
          "Robert, Mrs. Edward Scott (Elisabeth Walton McMillan)",
          "Ayoub, Miss. Banoura",
          "Dick, Mrs. Albert Adrian (Vera Gillespie)",
          "Sjoblom, Miss. Anna Sofia",
          "Leader, Dr. Alice (Farnham)",
          "Osman, Mrs. Mara",
          "Collyer, Mrs. Harvey (Charlotte Annie Tate)",
          "Chambers, Mrs. Norman Campbell (Bertha Griggs)",
          "Hays, Mrs. Charles Melville (Clara Jennings Gregg)",
          "Moor, Mrs. (Beila)",
          "Stone, Mrs. George Nelson (Martha Evelyn)",
          "Yasbeck, Mrs. Antoni (Selini Alexander)",
          "Compton, Miss. Sara Rebecca",
          "Serepeca, Miss. Augusta",
          "Goldenberg, Mrs. Samuel L (Edwiga Grabowska)",
          "Lines, Miss. Mary Conover",
          "Aks, Mrs. Sam (Leah Rosen)",
          "Wick, Mrs. George Dennick (Mary Hitchcock)",
          "Baclini, Mrs. Solomon (Latifa Qurban)",
          "Swift, Mrs. Frederick Joel (Margaret Welles Barron)",
          "Bystrom, Mrs. (Karolina)",
          "Duran y More, Miss. Asuncion",
          "Beckwith, Mrs. Richard Leonard (Sallie Monypeny)",
          "Abelson, Mrs. Samuel (Hannah Wizosky)",
          "Najib, Miss. Adele Kiamie \"Jane\"",
          "Potter, Mrs. Thomas Jr (Lily Alexenia Wilson)",
          "Shelley, Mrs. William (Imanita Parrish Hall)",
          "Graham, Miss. Margaret Edith"
         ],
         "legendgroup": "True, female",
         "marker": {
          "color": "#EF553B",
          "line": {
           "width": 0
          },
          "opacity": 0.7,
          "size": {
           "bdata": "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",
           "dtype": "f8"
          },
          "sizemode": "area",
          "sizeref": 1.280823,
          "symbol": "diamond"
         },
         "mode": "markers",
         "name": "True, female",
         "scene": "scene",
         "showlegend": true,
         "type": "scatter3d",
         "x": {
          "bdata": "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",
          "dtype": "f8"
         },
         "y": {
          "bdata": "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",
          "dtype": "f8"
         },
         "z": {
          "bdata": "AQMBAwIDAQIDAwMDAQMDAgMDAQICAgECAwMDAgMBAgMDAgMCAQMDAQMCAQMDAwIDAQEDAwIBAwEBAwIDAgMBAQECAQECAwEDAwEBAQMCAQEBAQEDAgEBAgIBAgMBAwEBAQICAwEDAwEDAwEBAwEDAQICAQMCAQICAgIDAgECAgICAwECAwICAwMBAQECAQICAQECAgMCAQEBAgMBAQMBAwIBAgEBAQICAgEDAgIBAgEDAwIDAQIDAQMDAQIBAQECAgIDAQECAgIBAQECAwEDAQMBAwIBAQMBAwEBAQEDAQMBAgIBAgMBAgE=",
          "dtype": "i1"
         }
        }
       ],
       "layout": {
        "legend": {
         "itemsizing": "constant",
         "title": {
          "text": "Survived, Sex"
         },
         "tracegroupgap": 0
        },
        "scene": {
         "domain": {
          "x": [
           0,
           1
          ],
          "y": [
           0,
           1
          ]
         },
         "xaxis": {
          "title": {
           "text": "Age"
          }
         },
         "yaxis": {
          "title": {
           "text": "Fare"
          }
         },
         "zaxis": {
          "title": {
           "text": "Pclass"
          }
         }
        },
        "template": {
         "data": {
          "bar": [
           {
            "error_x": {
             "color": "#f2f5fa"
            },
            "error_y": {
             "color": "#f2f5fa"
            },
            "marker": {
             "line": {
              "color": "rgb(17,17,17)",
              "width": 0.5
             },
             "pattern": {
              "fillmode": "overlay",
              "size": 10,
              "solidity": 0.2
             }
            },
            "type": "bar"
           }
          ],
          "barpolar": [
           {
            "marker": {
             "line": {
              "color": "rgb(17,17,17)",
              "width": 0.5
             },
             "pattern": {
              "fillmode": "overlay",
              "size": 10,
              "solidity": 0.2
             }
            },
            "type": "barpolar"
           }
          ],
          "carpet": [
           {
            "aaxis": {
             "endlinecolor": "#A2B1C6",
             "gridcolor": "#506784",
             "linecolor": "#506784",
             "minorgridcolor": "#506784",
             "startlinecolor": "#A2B1C6"
            },
            "baxis": {
             "endlinecolor": "#A2B1C6",
             "gridcolor": "#506784",
             "linecolor": "#506784",
             "minorgridcolor": "#506784",
             "startlinecolor": "#A2B1C6"
            },
            "type": "carpet"
           }
          ],
          "choropleth": [
           {
            "colorbar": {
             "outlinewidth": 0,
             "ticks": ""
            },
            "type": "choropleth"
           }
          ],
          "contour": [
           {
            "colorbar": {
             "outlinewidth": 0,
             "ticks": ""
            },
            "colorscale": [
             [
              0,
              "#0d0887"
             ],
             [
              0.1111111111111111,
              "#46039f"
             ],
             [
              0.2222222222222222,
              "#7201a8"
             ],
             [
              0.3333333333333333,
              "#9c179e"
             ],
             [
              0.4444444444444444,
              "#bd3786"
             ],
             [
              0.5555555555555556,
              "#d8576b"
             ],
             [
              0.6666666666666666,
              "#ed7953"
             ],
             [
              0.7777777777777778,
              "#fb9f3a"
             ],
             [
              0.8888888888888888,
              "#fdca26"
             ],
             [
              1,
              "#f0f921"
             ]
            ],
            "type": "contour"
           }
          ],
          "contourcarpet": [
           {
            "colorbar": {
             "outlinewidth": 0,
             "ticks": ""
            },
            "type": "contourcarpet"
           }
          ],
          "heatmap": [
           {
            "colorbar": {
             "outlinewidth": 0,
             "ticks": ""
            },
            "colorscale": [
             [
              0,
              "#0d0887"
             ],
             [
              0.1111111111111111,
              "#46039f"
             ],
             [
              0.2222222222222222,
              "#7201a8"
             ],
             [
              0.3333333333333333,
              "#9c179e"
             ],
             [
              0.4444444444444444,
              "#bd3786"
             ],
             [
              0.5555555555555556,
              "#d8576b"
             ],
             [
              0.6666666666666666,
              "#ed7953"
             ],
             [
              0.7777777777777778,
              "#fb9f3a"
             ],
             [
              0.8888888888888888,
              "#fdca26"
             ],
             [
              1,
              "#f0f921"
             ]
            ],
            "type": "heatmap"
           }
          ],
          "histogram": [
           {
            "marker": {
             "pattern": {
              "fillmode": "overlay",
              "size": 10,
              "solidity": 0.2
             }
            },
            "type": "histogram"
           }
          ],
          "histogram2d": [
           {
            "colorbar": {
             "outlinewidth": 0,
             "ticks": ""
            },
            "colorscale": [
             [
              0,
              "#0d0887"
             ],
             [
              0.1111111111111111,
              "#46039f"
             ],
             [
              0.2222222222222222,
              "#7201a8"
             ],
             [
              0.3333333333333333,
              "#9c179e"
             ],
             [
              0.4444444444444444,
              "#bd3786"
             ],
             [
              0.5555555555555556,
              "#d8576b"
             ],
             [
              0.6666666666666666,
              "#ed7953"
             ],
             [
              0.7777777777777778,
              "#fb9f3a"
             ],
             [
              0.8888888888888888,
              "#fdca26"
             ],
             [
              1,
              "#f0f921"
             ]
            ],
            "type": "histogram2d"
           }
          ],
          "histogram2dcontour": [
           {
            "colorbar": {
             "outlinewidth": 0,
             "ticks": ""
            },
            "colorscale": [
             [
              0,
              "#0d0887"
             ],
             [
              0.1111111111111111,
              "#46039f"
             ],
             [
              0.2222222222222222,
              "#7201a8"
             ],
             [
              0.3333333333333333,
              "#9c179e"
             ],
             [
              0.4444444444444444,
              "#bd3786"
             ],
             [
              0.5555555555555556,
              "#d8576b"
             ],
             [
              0.6666666666666666,
              "#ed7953"
             ],
             [
              0.7777777777777778,
              "#fb9f3a"
             ],
             [
              0.8888888888888888,
              "#fdca26"
             ],
             [
              1,
              "#f0f921"
             ]
            ],
            "type": "histogram2dcontour"
           }
          ],
          "mesh3d": [
           {
            "colorbar": {
             "outlinewidth": 0,
             "ticks": ""
            },
            "type": "mesh3d"
           }
          ],
          "parcoords": [
           {
            "line": {
             "colorbar": {
              "outlinewidth": 0,
              "ticks": ""
             }
            },
            "type": "parcoords"
           }
          ],
          "pie": [
           {
            "automargin": true,
            "type": "pie"
           }
          ],
          "scatter": [
           {
            "marker": {
             "line": {
              "color": "#283442"
             }
            },
            "type": "scatter"
           }
          ],
          "scatter3d": [
           {
            "line": {
             "colorbar": {
              "outlinewidth": 0,
              "ticks": ""
             }
            },
            "marker": {
             "colorbar": {
              "outlinewidth": 0,
              "ticks": ""
             }
            },
            "type": "scatter3d"
           }
          ],
          "scattercarpet": [
           {
            "marker": {
             "colorbar": {
              "outlinewidth": 0,
              "ticks": ""
             }
            },
            "type": "scattercarpet"
           }
          ],
          "scattergeo": [
           {
            "marker": {
             "colorbar": {
              "outlinewidth": 0,
              "ticks": ""
             }
            },
            "type": "scattergeo"
           }
          ],
          "scattergl": [
           {
            "marker": {
             "line": {
              "color": "#283442"
             }
            },
            "type": "scattergl"
           }
          ],
          "scattermap": [
           {
            "marker": {
             "colorbar": {
              "outlinewidth": 0,
              "ticks": ""
             }
            },
            "type": "scattermap"
           }
          ],
          "scattermapbox": [
           {
            "marker": {
             "colorbar": {
              "outlinewidth": 0,
              "ticks": ""
             }
            },
            "type": "scattermapbox"
           }
          ],
          "scatterpolar": [
           {
            "marker": {
             "colorbar": {
              "outlinewidth": 0,
              "ticks": ""
             }
            },
            "type": "scatterpolar"
           }
          ],
          "scatterpolargl": [
           {
            "marker": {
             "colorbar": {
              "outlinewidth": 0,
              "ticks": ""
             }
            },
            "type": "scatterpolargl"
           }
          ],
          "scatterternary": [
           {
            "marker": {
             "colorbar": {
              "outlinewidth": 0,
              "ticks": ""
             }
            },
            "type": "scatterternary"
           }
          ],
          "surface": [
           {
            "colorbar": {
             "outlinewidth": 0,
             "ticks": ""
            },
            "colorscale": [
             [
              0,
              "#0d0887"
             ],
             [
              0.1111111111111111,
              "#46039f"
             ],
             [
              0.2222222222222222,
              "#7201a8"
             ],
             [
              0.3333333333333333,
              "#9c179e"
             ],
             [
              0.4444444444444444,
              "#bd3786"
             ],
             [
              0.5555555555555556,
              "#d8576b"
             ],
             [
              0.6666666666666666,
              "#ed7953"
             ],
             [
              0.7777777777777778,
              "#fb9f3a"
             ],
             [
              0.8888888888888888,
              "#fdca26"
             ],
             [
              1,
              "#f0f921"
             ]
            ],
            "type": "surface"
           }
          ],
          "table": [
           {
            "cells": {
             "fill": {
              "color": "#506784"
             },
             "line": {
              "color": "rgb(17,17,17)"
             }
            },
            "header": {
             "fill": {
              "color": "#2a3f5f"
             },
             "line": {
              "color": "rgb(17,17,17)"
             }
            },
            "type": "table"
           }
          ]
         },
         "layout": {
          "annotationdefaults": {
           "arrowcolor": "#f2f5fa",
           "arrowhead": 0,
           "arrowwidth": 1
          },
          "autotypenumbers": "strict",
          "coloraxis": {
           "colorbar": {
            "outlinewidth": 0,
            "ticks": ""
           }
          },
          "colorscale": {
           "diverging": [
            [
             0,
             "#8e0152"
            ],
            [
             0.1,
             "#c51b7d"
            ],
            [
             0.2,
             "#de77ae"
            ],
            [
             0.3,
             "#f1b6da"
            ],
            [
             0.4,
             "#fde0ef"
            ],
            [
             0.5,
             "#f7f7f7"
            ],
            [
             0.6,
             "#e6f5d0"
            ],
            [
             0.7,
             "#b8e186"
            ],
            [
             0.8,
             "#7fbc41"
            ],
            [
             0.9,
             "#4d9221"
            ],
            [
             1,
             "#276419"
            ]
           ],
           "sequential": [
            [
             0,
             "#0d0887"
            ],
            [
             0.1111111111111111,
             "#46039f"
            ],
            [
             0.2222222222222222,
             "#7201a8"
            ],
            [
             0.3333333333333333,
             "#9c179e"
            ],
            [
             0.4444444444444444,
             "#bd3786"
            ],
            [
             0.5555555555555556,
             "#d8576b"
            ],
            [
             0.6666666666666666,
             "#ed7953"
            ],
            [
             0.7777777777777778,
             "#fb9f3a"
            ],
            [
             0.8888888888888888,
             "#fdca26"
            ],
            [
             1,
             "#f0f921"
            ]
           ],
           "sequentialminus": [
            [
             0,
             "#0d0887"
            ],
            [
             0.1111111111111111,
             "#46039f"
            ],
            [
             0.2222222222222222,
             "#7201a8"
            ],
            [
             0.3333333333333333,
             "#9c179e"
            ],
            [
             0.4444444444444444,
             "#bd3786"
            ],
            [
             0.5555555555555556,
             "#d8576b"
            ],
            [
             0.6666666666666666,
             "#ed7953"
            ],
            [
             0.7777777777777778,
             "#fb9f3a"
            ],
            [
             0.8888888888888888,
             "#fdca26"
            ],
            [
             1,
             "#f0f921"
            ]
           ]
          },
          "colorway": [
           "#636efa",
           "#EF553B",
           "#00cc96",
           "#ab63fa",
           "#FFA15A",
           "#19d3f3",
           "#FF6692",
           "#B6E880",
           "#FF97FF",
           "#FECB52"
          ],
          "font": {
           "color": "#f2f5fa"
          },
          "geo": {
           "bgcolor": "rgb(17,17,17)",
           "lakecolor": "rgb(17,17,17)",
           "landcolor": "rgb(17,17,17)",
           "showlakes": true,
           "showland": true,
           "subunitcolor": "#506784"
          },
          "hoverlabel": {
           "align": "left"
          },
          "hovermode": "closest",
          "mapbox": {
           "style": "dark"
          },
          "paper_bgcolor": "rgb(17,17,17)",
          "plot_bgcolor": "rgb(17,17,17)",
          "polar": {
           "angularaxis": {
            "gridcolor": "#506784",
            "linecolor": "#506784",
            "ticks": ""
           },
           "bgcolor": "rgb(17,17,17)",
           "radialaxis": {
            "gridcolor": "#506784",
            "linecolor": "#506784",
            "ticks": ""
           }
          },
          "scene": {
           "xaxis": {
            "backgroundcolor": "rgb(17,17,17)",
            "gridcolor": "#506784",
            "gridwidth": 2,
            "linecolor": "#506784",
            "showbackground": true,
            "ticks": "",
            "zerolinecolor": "#C8D4E3"
           },
           "yaxis": {
            "backgroundcolor": "rgb(17,17,17)",
            "gridcolor": "#506784",
            "gridwidth": 2,
            "linecolor": "#506784",
            "showbackground": true,
            "ticks": "",
            "zerolinecolor": "#C8D4E3"
           },
           "zaxis": {
            "backgroundcolor": "rgb(17,17,17)",
            "gridcolor": "#506784",
            "gridwidth": 2,
            "linecolor": "#506784",
            "showbackground": true,
            "ticks": "",
            "zerolinecolor": "#C8D4E3"
           }
          },
          "shapedefaults": {
           "line": {
            "color": "#f2f5fa"
           }
          },
          "sliderdefaults": {
           "bgcolor": "#C8D4E3",
           "bordercolor": "rgb(17,17,17)",
           "borderwidth": 1,
           "tickwidth": 0
          },
          "ternary": {
           "aaxis": {
            "gridcolor": "#506784",
            "linecolor": "#506784",
            "ticks": ""
           },
           "baxis": {
            "gridcolor": "#506784",
            "linecolor": "#506784",
            "ticks": ""
           },
           "bgcolor": "rgb(17,17,17)",
           "caxis": {
            "gridcolor": "#506784",
            "linecolor": "#506784",
            "ticks": ""
           }
          },
          "title": {
           "x": 0.05
          },
          "updatemenudefaults": {
           "bgcolor": "#506784",
           "borderwidth": 0
          },
          "xaxis": {
           "automargin": true,
           "gridcolor": "#283442",
           "linecolor": "#506784",
           "ticks": "",
           "title": {
            "standoff": 15
           },
           "zerolinecolor": "#283442",
           "zerolinewidth": 2
          },
          "yaxis": {
           "automargin": true,
           "gridcolor": "#283442",
           "linecolor": "#506784",
           "ticks": "",
           "title": {
            "standoff": 15
           },
           "zerolinecolor": "#283442",
           "zerolinewidth": 2
          }
         }
        },
        "title": {
         "text": "Titanic"
        }
       }
      }
     },
     "metadata": {},
     "output_type": "display_data"
    }
   ],
   "source": [
    "fig = px.scatter_3d(\n",
    "    data_frame=data,\n",
    "    x=\"Age\",       \n",
    "    y=\"Fare\",        \n",
    "    z=\"Pclass\",       \n",
    "    color=\"Survived\", \n",
    "    symbol=\"Sex\",    \n",
    "    hover_name='Name',\n",
    "    title=\"Titanic\",\n",
    "    opacity=0.7,\n",
    "    size=\"Fare\",     \n",
    "    template='plotly_dark',\n",
    ")\n",
    "\n",
    "fig.update_traces(marker=dict(line=dict(width=0)))  # убрать обводку\n",
    "fig.show()"
   ]
  },
  {
   "cell_type": "code",
   "execution_count": 19,
   "id": "92d774bf",
   "metadata": {},
   "outputs": [
    {
     "data": {
      "text/plain": [
       "<Axes: ylabel='Frequency'>"
      ]
     },
     "execution_count": 19,
     "metadata": {},
     "output_type": "execute_result"
    },
    {
     "data": {
      "image/png": "[encoded data removed]",
      "text/plain": [
       "<Figure size 640x480 with 1 Axes>"
      ]
     },
     "metadata": {},
     "output_type": "display_data"
    }
   ],
   "source": [
    "data['Age'].plot.hist()"
   ]
  }
 ],
 "metadata": {
  "kernelspec": {
   "display_name": "Python 3 (ipykernel)",
   "language": "python",
   "name": "python3"
  }
 },
 "nbformat": 4,
 "nbformat_minor": 5
}
